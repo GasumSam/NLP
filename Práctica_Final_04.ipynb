{
 "cells": [
  {
   "cell_type": "markdown",
   "metadata": {},
   "source": [
    "## Big Data ML AI 7 - José Manuel Guzmán Gutiérrez\n",
    "# Práctica Final NLP\n",
    "### Ejercicio 4 -  Reporte de métricas y conclusiones"
   ]
  },
  {
   "cell_type": "markdown",
   "metadata": {},
   "source": [
    "-------------"
   ]
  },
  {
   "cell_type": "markdown",
   "metadata": {},
   "source": [
    "## Modelo 1"
   ]
  },
  {
   "cell_type": "markdown",
   "metadata": {},
   "source": [
    "**Chi-cuadrado (Balanceado)**"
   ]
  },
  {
   "cell_type": "markdown",
   "metadata": {},
   "source": [
    "<img src=\"http://www.soc21.com/metricas/B_001_Chi.png\" alt=\"Chi-Cuadrado Balanceado\"/>"
   ]
  },
  {
   "cell_type": "markdown",
   "metadata": {},
   "source": [
    "**Chi-cuadrado (Desbalanceado)**"
   ]
  },
  {
   "cell_type": "markdown",
   "metadata": {},
   "source": [
    "<img src=\"http://www.soc21.com/metricas/D_001_Chi.png\" alt=\"Chi-Cuadrado Desbalanceado\"/>"
   ]
  },
  {
   "cell_type": "markdown",
   "metadata": {},
   "source": [
    "Comenzar con esta métrica ha estado motivado por la idea de cómo un buen tratamiento y preprocesado de los datos pueden arrojar puntos de vista completamente diferentes. Y concretamente en el aspecto del balanceo de los datos conforme a la clasificación binaria (0) negativo y (1) positivo."
   ]
  },
  {
   "cell_type": "markdown",
   "metadata": {},
   "source": [
    "Hay que tener en cuenta que la diferencia inicial de los primeros frente a los segundos es de 1 a 10, por lo que se hace prácticamente necesario abordar este tema para evitar un modelo erróneo."
   ]
  },
  {
   "cell_type": "markdown",
   "metadata": {},
   "source": [
    "En este sentido, llama la atención cómo determinados tokens tienen un peso crucial en cada una de sus clasificaciones, entendiendo por su significado en qué grupo se encuentran (Chi-Cuadrado no nos lo indica). _**great**_ , _**delicious**_ , _**perfect**_ , son algunos de los calificativos que adquieren un alto valor entre las reviews positivas, una circunstancia que se extrapola a _**awful**_ , _**bad**_ o _**disappointed**_ en las negativas."
   ]
  },
  {
   "cell_type": "markdown",
   "metadata": {},
   "source": [
    "Otro de los importantes aspectos es saber que nuestro corpus es bueno para el análisis de sentimiento, ya que los principales tokens son valorativos."
   ]
  },
  {
   "cell_type": "markdown",
   "metadata": {},
   "source": [
    "_El modelo desbalanceado_"
   ]
  },
  {
   "cell_type": "markdown",
   "metadata": {},
   "source": [
    "No podemos obviar que otra de las conclusiones se observan en el caso desbalanceado: los adjetivos negativos cobran relevancia. Esto nos tiene que remitir al tipo de balanceo realizado, en este caso _under-sampling_ , por el cual hemos reducido los registros positivos hasta compensarlos con los negativos."
   ]
  },
  {
   "cell_type": "markdown",
   "metadata": {},
   "source": [
    "De esta forma, si en el caso desbalanceado, manteniendo un corpus positivo diez veces mayor, hace más relevante el léxico negativo, es **porque el léxico positivo es más rico**: los usuarios se expresan con un lenguaje más rico al expresar emociones positivas. Dicho de otra manera, las expresiones negativas son más impulsivas y propias del cerebro reptiliano, de ahí el uso más limitado de los adjetivos."
   ]
  },
  {
   "cell_type": "markdown",
   "metadata": {},
   "source": [
    "**Regresión Logística (Balanceado)**"
   ]
  },
  {
   "cell_type": "markdown",
   "metadata": {},
   "source": [
    "<img src=\"http://www.soc21.com/metricas/B_002_Acc.png\" alt=\"Regresión Logistica (Balanceada)\"/>"
   ]
  },
  {
   "cell_type": "markdown",
   "metadata": {},
   "source": [
    "**Regresión Logística (Desbalanceado)**"
   ]
  },
  {
   "cell_type": "markdown",
   "metadata": {},
   "source": [
    "<img src=\"http://www.soc21.com/metricas/D_002_Acc.png\" alt=\"Regresión Logistica (Desbalanceada)\"/>"
   ]
  },
  {
   "cell_type": "markdown",
   "metadata": {},
   "source": [
    "De forma sucinta esta métrica nos aporta los valores de la regresión para diversos valores de C. Las conclusiones más interesantes estañan en cómo en el modelo balanceado el C = 1 es su valor óptimo, mientras que en el modelo desbalanceado lo es con C = 10."
   ]
  },
  {
   "cell_type": "markdown",
   "metadata": {},
   "source": [
    "En lo que a las diferencias de precisión se refiere, recordamos una de las ideas principales del módulo NLP: cómo un Accuracy alto puede llegar a convertirse en un factor de confusión. Es decir, en esta comparativa nos encontramos con una precisión mejor para el modelo desbalanceado desde la lógica que con más muestras positivas ha aprendido mejor."
   ]
  },
  {
   "cell_type": "markdown",
   "metadata": {},
   "source": [
    "En el caso balanceado aprende peor, pero lo que aprende es más relevante.\n"
   ]
  },
  {
   "cell_type": "markdown",
   "metadata": {},
   "source": [
    "**Matriz de confusión y Informe de clasificación (Balanceado)**"
   ]
  },
  {
   "cell_type": "markdown",
   "metadata": {},
   "source": [
    "<img src=\"http://www.soc21.com/metricas/B_003_ConfussionM_ClassR.png\" alt=\"Matriz Confusión & Informe Clasificación\"/>"
   ]
  },
  {
   "cell_type": "markdown",
   "metadata": {},
   "source": [
    "**Matriz de confusión y Informe de clasificación (Desbalanceado)**"
   ]
  },
  {
   "cell_type": "markdown",
   "metadata": {},
   "source": [
    "<img src=\"http://www.soc21.com/metricas/D_003_ConfussionM_ClassR.png\" alt=\"Matriz Confusión & Informe Clasificación (Desbalanceado)\"/>"
   ]
  },
  {
   "cell_type": "markdown",
   "metadata": {},
   "source": [
    "Una muestra más de la importancia del preprocesado. En estas métricas lo primero que observamos es la diferencias que marcan ambas pruebas en relación con su el número de muestras de una y otra clasificación ( _**support**_ )."
   ]
  },
  {
   "cell_type": "markdown",
   "metadata": {},
   "source": [
    "De hecho, estas diferencias se aprecian en el resto de indicadores, los que refuerzan la reflexión del apartado anterior sobre cómo el Accuracy alto puede ser un factor de confusión. En este reporte, el caso balanceado es más robusto a pesar de tener un Accuracy más bajo."
   ]
  },
  {
   "cell_type": "markdown",
   "metadata": {},
   "source": [
    "En el equilibrio es patente en el caso balanceado, tanto en el número de muestras como en los indicadores _**f1-score**_ y _**recall**_ : en el 80% de los casos que se designe un sentimiento, ya sea negativo o positivo, se acertará."
   ]
  },
  {
   "cell_type": "markdown",
   "metadata": {},
   "source": [
    "Es más, podemos añadir que si el target principal de un análisis de sentimiento está en identificar los valores negativos (0), es evidente que la precisión para señalarlos recae en el modelo balanceado."
   ]
  },
  {
   "cell_type": "markdown",
   "metadata": {},
   "source": [
    "Esto no solo se aprecia en los índices de clasificación, sino también, por lógica, en la matriz de confusión. Se observa especialmente en el caso desbalanceado, donde 1924 muestras negativas se han catalogado como positivas frente a las 1450 negativas acertadas."
   ]
  },
  {
   "cell_type": "markdown",
   "metadata": {},
   "source": [
    "**¿Cómo predicen los modelos? (Balanceado)**"
   ]
  },
  {
   "cell_type": "markdown",
   "metadata": {},
   "source": [
    "<img src=\"http://www.soc21.com/metricas/B_004_Predict.png\" alt=\"Predicción del modelo (Balanceado)\"/>"
   ]
  },
  {
   "cell_type": "markdown",
   "metadata": {},
   "source": [
    "**¿Cómo predicen los modelos? (Desbalanceado)**"
   ]
  },
  {
   "cell_type": "markdown",
   "metadata": {},
   "source": [
    "<img src=\"http://www.soc21.com/metricas/D_Predict.png\" alt=\"Predicción del modelo (Balanceado)\"/>"
   ]
  },
  {
   "cell_type": "markdown",
   "metadata": {},
   "source": [
    "Coincide con las métricas analizadas, en el caso balanceado en torno a un 80% de acierto frente al 50% aprox del caso desbalanceado."
   ]
  },
  {
   "cell_type": "markdown",
   "metadata": {},
   "source": [
    "## Modelo 2"
   ]
  },
  {
   "cell_type": "markdown",
   "metadata": {},
   "source": [
    "**VADER (Balanceado)**"
   ]
  },
  {
   "cell_type": "markdown",
   "metadata": {},
   "source": [
    "<img src=\"http://www.soc21.com/metricas/B_VADER.png\" alt=\"VADER (Balanceado)\"/>"
   ]
  },
  {
   "cell_type": "markdown",
   "metadata": {},
   "source": [
    "**VADER (Desbalanceado)**"
   ]
  },
  {
   "cell_type": "markdown",
   "metadata": {},
   "source": [
    "<img src=\"http://www.soc21.com/metricas/D_VADER.png\" alt=\"VADER (Desbalanceado)\"/>"
   ]
  },
  {
   "cell_type": "markdown",
   "metadata": {},
   "source": [
    "Pues no, no queremos hacer trampas al solitario. Y es evidente que después de analizar el modelo de Regresión Logística y la enorme cantidad de información que aporta respecto al corpus y las diferentes singularidades de su procesado, ejecutar un VADER es algo así como probar un circuito de carreras con un tractor; andar anda, pero las pegatinas no quedan tan bien en el chasis."
   ]
  },
  {
   "cell_type": "markdown",
   "metadata": {},
   "source": [
    "No obstante me ha parecido oportuno incluirlo precisamente\tpor su sencillez (Siempre hay un cliente que quiere algo bueno y barato), asnillo como a modo de técnica pre-exploratoria."
   ]
  },
  {
   "cell_type": "markdown",
   "metadata": {},
   "source": [
    "A modo de conclusión: **VADER funciona muy bien , dentro de sus limitaciones**. En el ejemplo balanceado, encontramos una muestra altamente descriptiva en base a adjetivos sustantivados, por lo general es positiva, pero esta peculiaridad de interpretar los sustantivos como neutros son los que le hace clasificarla como neutra en mayor medida. En el caso desbalanceado, VADER toma una muestra en la que los sustantivos y adjetivos están compensados. Como nota curiosa, en esta muestra VADER identifica valores negativos, como _disappoint_ , a pesar de estar realizando una comparativa respecto a una etiqueta (tipo de café) _one hundred ethiopian_ , además del caso de _bitter_ , que si bien es un valor que podría catalogarse como negativo, en el contexto de los amantes del café, puede ser un token muy positivo."
   ]
  },
  {
   "cell_type": "markdown",
   "metadata": {},
   "source": [
    "### Conclusiones"
   ]
  },
  {
   "cell_type": "markdown",
   "metadata": {},
   "source": [
    "Muchos son los puntos de vista extraídos de la práctica, quizás el más importante, en mi caso, perderle el miedo a Python como _supercaja_ de herramientas a la hora de preprocesar y comprender la importancia de la maestria a la hora de trabajar como traductor entre personas y máquinas (es la analogía con la que defino el NLP). En clase surgió el concepto de _artesanía_ , para entender el valor de la experiencia en base al manejo de herramientas (desde codificar a elegir la librería adecuada) y en base a la interpretación de _**qué**_ corpus tengo, _**cómo**_ puedo procesarlo y, no menos importante, _**por qué** hacerlo así (objetivos). "
   ]
  },
  {
   "cell_type": "markdown",
   "metadata": {},
   "source": [
    "Esta reflexión de la importancia del objetivo o finalidad del trabajo y cómo conectar con ella los datos que se tengan, es algo que se observa tanto en los notebooks del módulo, como en Stackoverflow o en foros de Kaggle: el mejor camino dependerá de a dónde se quiera ir."
   ]
  },
  {
   "cell_type": "markdown",
   "metadata": {},
   "source": [
    "Sin embargo, a modo de resumen y como autocrítica, concluiremos enumerando algunos aspectos que podrían mejorar la presente práctica"
   ]
  },
  {
   "cell_type": "markdown",
   "metadata": {},
   "source": [
    "- **El dataset escogido es muy limitado**. La gente es primaria, especialmente cuando come. \"Me gusta\", \"no me gusta\", de ahí que la riqueza léxica del dataset elegido es limitada, especialmente a la hora de quejarse, como indico en las reflexiones de la comparativa Chi-cuadrado. Sin embargo, después de dos semanas peleándote con él, pues se le coje cariño.\n",
    "\n",
    "- **Las palabras funcionan mejor que los bigramas y trigramas** . En el caso del dataset elegido en base a las reviews de productos gourmet.\n",
    "\n",
    "- **Alto valor del preprocesado**. Cada prueba es fundamental, especialmente la importancia de un buen filtrado en StopWords y una buena Lematización. Si se trata de eliminar outliers, todas las palabras cuyo valor semántico sea cero o que aporten el mismo valor para un análisis estadístico pero desde distintas acepciones deben ser catalogadas como outliers que distorsionan el modelo. \n",
    "\n",
    "En clase se hizo un comentario que me pareció muy interesante: _**\"No existe relación de sentimiento con las entidades nombradas\"**_, es decir, los sustantivos que hacen referencia a cosas, cosas de las que se supone que ya conocemos y que por tanto no nos aporta al análisis de sentimiento.\n",
    "\n",
    "- **Probar otros modelos**. La práctica es enfrentarte a la realidad y aprender de ella, por lo que nos queda pendiente explorar otros modelos de clasificación cuando el tiempo y las fuerzas, esas que faltan a final de curso, lo permitan. _**Random Forest**_ o _**SVM**_ podrían ser alguno de ellos.\n",
    "\n",
    "- **Corpus propio en modelos entrenados por otros**. Lo dejo aquí anotado como otra de las opciones que podrían haber aportado información interesante a nuestro análisis.\n"
   ]
  },
  {
   "cell_type": "markdown",
   "metadata": {},
   "source": [
    "### Muchas gracias Carlos por tu implicación y aportación. Ha sido un verdadero placer. Feliz verano."
   ]
  },
  {
   "cell_type": "code",
   "execution_count": null,
   "metadata": {},
   "outputs": [],
   "source": []
  }
 ],
 "metadata": {
  "kernelspec": {
   "display_name": "Python 3",
   "language": "python",
   "name": "python3"
  },
  "language_info": {
   "codemirror_mode": {
    "name": "ipython",
    "version": 3
   },
   "file_extension": ".py",
   "mimetype": "text/x-python",
   "name": "python",
   "nbconvert_exporter": "python",
   "pygments_lexer": "ipython3",
   "version": "3.7.6"
  }
 },
 "nbformat": 4,
 "nbformat_minor": 4
}
