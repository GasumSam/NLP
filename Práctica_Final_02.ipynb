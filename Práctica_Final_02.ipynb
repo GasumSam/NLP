{
 "cells": [
  {
   "cell_type": "markdown",
   "metadata": {},
   "source": [
    "## Big Data ML AI 7 - José Manuel Guzmán Gutiérrez\n",
    "# Práctica Final NLP\n",
    "### Ejercicio 2 -  Etapa de preprocesado de texto"
   ]
  },
  {
   "cell_type": "markdown",
   "metadata": {},
   "source": [
    "-------------"
   ]
  },
  {
   "cell_type": "markdown",
   "metadata": {},
   "source": [
    "### Cargamos los datos (Repetimos los primeros pasos del anterior ejercicio)"
   ]
  },
  {
   "cell_type": "code",
   "execution_count": 1,
   "metadata": {},
   "outputs": [],
   "source": [
    "import pandas as pd\n",
    "import glob\n",
    "import os"
   ]
  },
  {
   "cell_type": "code",
   "execution_count": 2,
   "metadata": {},
   "outputs": [],
   "source": [
    "data_reviews = pd.read_json('./data/reviews_Grocery_and_Gourmet_Food_5.json.gz', lines=True, compression='gzip')"
   ]
  },
  {
   "cell_type": "code",
   "execution_count": 3,
   "metadata": {},
   "outputs": [
    {
     "data": {
      "text/html": [
       "<div>\n",
       "<style scoped>\n",
       "    .dataframe tbody tr th:only-of-type {\n",
       "        vertical-align: middle;\n",
       "    }\n",
       "\n",
       "    .dataframe tbody tr th {\n",
       "        vertical-align: top;\n",
       "    }\n",
       "\n",
       "    .dataframe thead th {\n",
       "        text-align: right;\n",
       "    }\n",
       "</style>\n",
       "<table border=\"1\" class=\"dataframe\">\n",
       "  <thead>\n",
       "    <tr style=\"text-align: right;\">\n",
       "      <th></th>\n",
       "      <th>reviewerID</th>\n",
       "      <th>asin</th>\n",
       "      <th>reviewerName</th>\n",
       "      <th>helpful</th>\n",
       "      <th>reviewText</th>\n",
       "      <th>overall</th>\n",
       "      <th>summary</th>\n",
       "      <th>unixReviewTime</th>\n",
       "      <th>reviewTime</th>\n",
       "    </tr>\n",
       "  </thead>\n",
       "  <tbody>\n",
       "    <tr>\n",
       "      <th>0</th>\n",
       "      <td>A1VEELTKS8NLZB</td>\n",
       "      <td>616719923X</td>\n",
       "      <td>Amazon Customer</td>\n",
       "      <td>[0, 0]</td>\n",
       "      <td>Just another flavor of Kit Kat but the taste i...</td>\n",
       "      <td>4</td>\n",
       "      <td>Good Taste</td>\n",
       "      <td>1370044800</td>\n",
       "      <td>06 1, 2013</td>\n",
       "    </tr>\n",
       "    <tr>\n",
       "      <th>1</th>\n",
       "      <td>A14R9XMZVJ6INB</td>\n",
       "      <td>616719923X</td>\n",
       "      <td>amf0001</td>\n",
       "      <td>[0, 1]</td>\n",
       "      <td>I bought this on impulse and it comes from Jap...</td>\n",
       "      <td>3</td>\n",
       "      <td>3.5 stars,  sadly not as wonderful as I had hoped</td>\n",
       "      <td>1400457600</td>\n",
       "      <td>05 19, 2014</td>\n",
       "    </tr>\n",
       "    <tr>\n",
       "      <th>2</th>\n",
       "      <td>A27IQHDZFQFNGG</td>\n",
       "      <td>616719923X</td>\n",
       "      <td>Caitlin</td>\n",
       "      <td>[3, 4]</td>\n",
       "      <td>Really good. Great gift for any fan of green t...</td>\n",
       "      <td>4</td>\n",
       "      <td>Yum!</td>\n",
       "      <td>1381190400</td>\n",
       "      <td>10 8, 2013</td>\n",
       "    </tr>\n",
       "    <tr>\n",
       "      <th>3</th>\n",
       "      <td>A31QY5TASILE89</td>\n",
       "      <td>616719923X</td>\n",
       "      <td>DebraDownSth</td>\n",
       "      <td>[0, 0]</td>\n",
       "      <td>I had never had it before, was curious to see ...</td>\n",
       "      <td>5</td>\n",
       "      <td>Unexpected flavor meld</td>\n",
       "      <td>1369008000</td>\n",
       "      <td>05 20, 2013</td>\n",
       "    </tr>\n",
       "    <tr>\n",
       "      <th>4</th>\n",
       "      <td>A2LWK003FFMCI5</td>\n",
       "      <td>616719923X</td>\n",
       "      <td>Diana X.</td>\n",
       "      <td>[1, 2]</td>\n",
       "      <td>I've been looking forward to trying these afte...</td>\n",
       "      <td>4</td>\n",
       "      <td>Not a very strong tea flavor, but still yummy ...</td>\n",
       "      <td>1369526400</td>\n",
       "      <td>05 26, 2013</td>\n",
       "    </tr>\n",
       "    <tr>\n",
       "      <th>...</th>\n",
       "      <td>...</td>\n",
       "      <td>...</td>\n",
       "      <td>...</td>\n",
       "      <td>...</td>\n",
       "      <td>...</td>\n",
       "      <td>...</td>\n",
       "      <td>...</td>\n",
       "      <td>...</td>\n",
       "      <td>...</td>\n",
       "    </tr>\n",
       "    <tr>\n",
       "      <th>95</th>\n",
       "      <td>A1R19K6O4IAF5W</td>\n",
       "      <td>B0000CDEPD</td>\n",
       "      <td>Terry</td>\n",
       "      <td>[2, 2]</td>\n",
       "      <td>Very good vanilla extract and organic too! Thi...</td>\n",
       "      <td>5</td>\n",
       "      <td>Much easier than making your own.</td>\n",
       "      <td>1365292800</td>\n",
       "      <td>04 7, 2013</td>\n",
       "    </tr>\n",
       "    <tr>\n",
       "      <th>96</th>\n",
       "      <td>AY8UH4COUYMGZ</td>\n",
       "      <td>B0000CDEPD</td>\n",
       "      <td>ttt</td>\n",
       "      <td>[1, 2]</td>\n",
       "      <td>This bottle is a steal, at Whole Foods (at lea...</td>\n",
       "      <td>5</td>\n",
       "      <td>The Only Vanilla I'll Buy From Now On!</td>\n",
       "      <td>1373673600</td>\n",
       "      <td>07 13, 2013</td>\n",
       "    </tr>\n",
       "    <tr>\n",
       "      <th>97</th>\n",
       "      <td>A1RVOM92NT7WTM</td>\n",
       "      <td>B0000CDEPD</td>\n",
       "      <td>Vickie D.</td>\n",
       "      <td>[0, 0]</td>\n",
       "      <td>Very good and even better knowing it is organi...</td>\n",
       "      <td>5</td>\n",
       "      <td>Added it to my subscribe</td>\n",
       "      <td>1398643200</td>\n",
       "      <td>04 28, 2014</td>\n",
       "    </tr>\n",
       "    <tr>\n",
       "      <th>98</th>\n",
       "      <td>A31EZQGRVKKYAZ</td>\n",
       "      <td>B0000CETGM</td>\n",
       "      <td>J. Hesse</td>\n",
       "      <td>[1, 2]</td>\n",
       "      <td>Jamaica Blue Mountain Coffee is my absolute fa...</td>\n",
       "      <td>5</td>\n",
       "      <td>My favorite coffee</td>\n",
       "      <td>1369008000</td>\n",
       "      <td>05 20, 2013</td>\n",
       "    </tr>\n",
       "    <tr>\n",
       "      <th>99</th>\n",
       "      <td>A1BHCRAPM0OI1W</td>\n",
       "      <td>B0000CETGM</td>\n",
       "      <td>Jim at Lansing \"Amazon is great, and offers g...</td>\n",
       "      <td>[0, 0]</td>\n",
       "      <td>The coffee does have a production date and bes...</td>\n",
       "      <td>3</td>\n",
       "      <td>Be aware of this produce</td>\n",
       "      <td>1322092800</td>\n",
       "      <td>11 24, 2011</td>\n",
       "    </tr>\n",
       "  </tbody>\n",
       "</table>\n",
       "<p>100 rows × 9 columns</p>\n",
       "</div>"
      ],
      "text/plain": [
       "        reviewerID        asin  \\\n",
       "0   A1VEELTKS8NLZB  616719923X   \n",
       "1   A14R9XMZVJ6INB  616719923X   \n",
       "2   A27IQHDZFQFNGG  616719923X   \n",
       "3   A31QY5TASILE89  616719923X   \n",
       "4   A2LWK003FFMCI5  616719923X   \n",
       "..             ...         ...   \n",
       "95  A1R19K6O4IAF5W  B0000CDEPD   \n",
       "96   AY8UH4COUYMGZ  B0000CDEPD   \n",
       "97  A1RVOM92NT7WTM  B0000CDEPD   \n",
       "98  A31EZQGRVKKYAZ  B0000CETGM   \n",
       "99  A1BHCRAPM0OI1W  B0000CETGM   \n",
       "\n",
       "                                        reviewerName helpful  \\\n",
       "0                                    Amazon Customer  [0, 0]   \n",
       "1                                            amf0001  [0, 1]   \n",
       "2                                            Caitlin  [3, 4]   \n",
       "3                                       DebraDownSth  [0, 0]   \n",
       "4                                           Diana X.  [1, 2]   \n",
       "..                                               ...     ...   \n",
       "95                                             Terry  [2, 2]   \n",
       "96                                               ttt  [1, 2]   \n",
       "97                                         Vickie D.  [0, 0]   \n",
       "98                                          J. Hesse  [1, 2]   \n",
       "99  Jim at Lansing \"Amazon is great, and offers g...  [0, 0]   \n",
       "\n",
       "                                           reviewText  overall  \\\n",
       "0   Just another flavor of Kit Kat but the taste i...        4   \n",
       "1   I bought this on impulse and it comes from Jap...        3   \n",
       "2   Really good. Great gift for any fan of green t...        4   \n",
       "3   I had never had it before, was curious to see ...        5   \n",
       "4   I've been looking forward to trying these afte...        4   \n",
       "..                                                ...      ...   \n",
       "95  Very good vanilla extract and organic too! Thi...        5   \n",
       "96  This bottle is a steal, at Whole Foods (at lea...        5   \n",
       "97  Very good and even better knowing it is organi...        5   \n",
       "98  Jamaica Blue Mountain Coffee is my absolute fa...        5   \n",
       "99  The coffee does have a production date and bes...        3   \n",
       "\n",
       "                                              summary  unixReviewTime  \\\n",
       "0                                          Good Taste      1370044800   \n",
       "1   3.5 stars,  sadly not as wonderful as I had hoped      1400457600   \n",
       "2                                                Yum!      1381190400   \n",
       "3                              Unexpected flavor meld      1369008000   \n",
       "4   Not a very strong tea flavor, but still yummy ...      1369526400   \n",
       "..                                                ...             ...   \n",
       "95                  Much easier than making your own.      1365292800   \n",
       "96             The Only Vanilla I'll Buy From Now On!      1373673600   \n",
       "97                           Added it to my subscribe      1398643200   \n",
       "98                                 My favorite coffee      1369008000   \n",
       "99                           Be aware of this produce      1322092800   \n",
       "\n",
       "     reviewTime  \n",
       "0    06 1, 2013  \n",
       "1   05 19, 2014  \n",
       "2    10 8, 2013  \n",
       "3   05 20, 2013  \n",
       "4   05 26, 2013  \n",
       "..          ...  \n",
       "95   04 7, 2013  \n",
       "96  07 13, 2013  \n",
       "97  04 28, 2014  \n",
       "98  05 20, 2013  \n",
       "99  11 24, 2011  \n",
       "\n",
       "[100 rows x 9 columns]"
      ]
     },
     "execution_count": 3,
     "metadata": {},
     "output_type": "execute_result"
    }
   ],
   "source": [
    "data_reviews[:100]"
   ]
  },
  {
   "cell_type": "code",
   "execution_count": 4,
   "metadata": {},
   "outputs": [
    {
     "data": {
      "text/plain": [
       "(151254, 9)"
      ]
     },
     "execution_count": 4,
     "metadata": {},
     "output_type": "execute_result"
    }
   ],
   "source": [
    "data_reviews.shape"
   ]
  },
  {
   "cell_type": "code",
   "execution_count": 5,
   "metadata": {},
   "outputs": [],
   "source": [
    "data_reviews = pd.DataFrame(data_reviews)"
   ]
  },
  {
   "cell_type": "code",
   "execution_count": 6,
   "metadata": {},
   "outputs": [
    {
     "data": {
      "text/plain": [
       "reviewerID        object\n",
       "asin              object\n",
       "reviewerName      object\n",
       "helpful           object\n",
       "reviewText        object\n",
       "overall            int64\n",
       "summary           object\n",
       "unixReviewTime     int64\n",
       "reviewTime        object\n",
       "dtype: object"
      ]
     },
     "execution_count": 6,
     "metadata": {},
     "output_type": "execute_result"
    }
   ],
   "source": [
    "data_reviews.dtypes"
   ]
  },
  {
   "cell_type": "markdown",
   "metadata": {},
   "source": [
    "Contamos con 151254 registros para 9 columnas de información"
   ]
  },
  {
   "cell_type": "markdown",
   "metadata": {},
   "source": [
    "Nos quedamos con las columnas _**summary**_ , _**reviewText**_ , _**reviewerName**_ y _**overall**_ las que consideramos importantes para nuestro análisis de sentimiento."
   ]
  },
  {
   "cell_type": "code",
   "execution_count": 7,
   "metadata": {},
   "outputs": [],
   "source": [
    "data_reviews = data_reviews.drop(['reviewerID'], axis=1)\n",
    "data_reviews = data_reviews.drop(['asin'], axis=1)\n",
    "data_reviews = data_reviews.drop(['helpful'], axis=1)\n",
    "data_reviews = data_reviews.drop(['unixReviewTime'], axis=1)\n",
    "data_reviews = data_reviews.drop(['reviewTime'], axis=1)"
   ]
  },
  {
   "cell_type": "code",
   "execution_count": 8,
   "metadata": {},
   "outputs": [
    {
     "data": {
      "text/html": [
       "<div>\n",
       "<style scoped>\n",
       "    .dataframe tbody tr th:only-of-type {\n",
       "        vertical-align: middle;\n",
       "    }\n",
       "\n",
       "    .dataframe tbody tr th {\n",
       "        vertical-align: top;\n",
       "    }\n",
       "\n",
       "    .dataframe thead th {\n",
       "        text-align: right;\n",
       "    }\n",
       "</style>\n",
       "<table border=\"1\" class=\"dataframe\">\n",
       "  <thead>\n",
       "    <tr style=\"text-align: right;\">\n",
       "      <th></th>\n",
       "      <th>reviewerName</th>\n",
       "      <th>reviewText</th>\n",
       "      <th>overall</th>\n",
       "      <th>summary</th>\n",
       "    </tr>\n",
       "  </thead>\n",
       "  <tbody>\n",
       "    <tr>\n",
       "      <th>0</th>\n",
       "      <td>Amazon Customer</td>\n",
       "      <td>Just another flavor of Kit Kat but the taste i...</td>\n",
       "      <td>4</td>\n",
       "      <td>Good Taste</td>\n",
       "    </tr>\n",
       "    <tr>\n",
       "      <th>1</th>\n",
       "      <td>amf0001</td>\n",
       "      <td>I bought this on impulse and it comes from Jap...</td>\n",
       "      <td>3</td>\n",
       "      <td>3.5 stars,  sadly not as wonderful as I had hoped</td>\n",
       "    </tr>\n",
       "    <tr>\n",
       "      <th>2</th>\n",
       "      <td>Caitlin</td>\n",
       "      <td>Really good. Great gift for any fan of green t...</td>\n",
       "      <td>4</td>\n",
       "      <td>Yum!</td>\n",
       "    </tr>\n",
       "    <tr>\n",
       "      <th>3</th>\n",
       "      <td>DebraDownSth</td>\n",
       "      <td>I had never had it before, was curious to see ...</td>\n",
       "      <td>5</td>\n",
       "      <td>Unexpected flavor meld</td>\n",
       "    </tr>\n",
       "    <tr>\n",
       "      <th>4</th>\n",
       "      <td>Diana X.</td>\n",
       "      <td>I've been looking forward to trying these afte...</td>\n",
       "      <td>4</td>\n",
       "      <td>Not a very strong tea flavor, but still yummy ...</td>\n",
       "    </tr>\n",
       "  </tbody>\n",
       "</table>\n",
       "</div>"
      ],
      "text/plain": [
       "      reviewerName                                         reviewText  \\\n",
       "0  Amazon Customer  Just another flavor of Kit Kat but the taste i...   \n",
       "1          amf0001  I bought this on impulse and it comes from Jap...   \n",
       "2          Caitlin  Really good. Great gift for any fan of green t...   \n",
       "3     DebraDownSth  I had never had it before, was curious to see ...   \n",
       "4         Diana X.  I've been looking forward to trying these afte...   \n",
       "\n",
       "   overall                                            summary  \n",
       "0        4                                         Good Taste  \n",
       "1        3  3.5 stars,  sadly not as wonderful as I had hoped  \n",
       "2        4                                               Yum!  \n",
       "3        5                             Unexpected flavor meld  \n",
       "4        4  Not a very strong tea flavor, but still yummy ...  "
      ]
     },
     "execution_count": 8,
     "metadata": {},
     "output_type": "execute_result"
    }
   ],
   "source": [
    "data_reviews.head()"
   ]
  },
  {
   "cell_type": "code",
   "execution_count": 9,
   "metadata": {},
   "outputs": [
    {
     "data": {
      "text/html": [
       "<div>\n",
       "<style scoped>\n",
       "    .dataframe tbody tr th:only-of-type {\n",
       "        vertical-align: middle;\n",
       "    }\n",
       "\n",
       "    .dataframe tbody tr th {\n",
       "        vertical-align: top;\n",
       "    }\n",
       "\n",
       "    .dataframe thead th {\n",
       "        text-align: right;\n",
       "    }\n",
       "</style>\n",
       "<table border=\"1\" class=\"dataframe\">\n",
       "  <thead>\n",
       "    <tr style=\"text-align: right;\">\n",
       "      <th></th>\n",
       "      <th>reviewerName</th>\n",
       "      <th>summary</th>\n",
       "      <th>reviewText</th>\n",
       "      <th>overall</th>\n",
       "    </tr>\n",
       "  </thead>\n",
       "  <tbody>\n",
       "    <tr>\n",
       "      <th>0</th>\n",
       "      <td>Amazon Customer</td>\n",
       "      <td>Good Taste</td>\n",
       "      <td>Just another flavor of Kit Kat but the taste i...</td>\n",
       "      <td>4</td>\n",
       "    </tr>\n",
       "    <tr>\n",
       "      <th>1</th>\n",
       "      <td>amf0001</td>\n",
       "      <td>3.5 stars,  sadly not as wonderful as I had hoped</td>\n",
       "      <td>I bought this on impulse and it comes from Jap...</td>\n",
       "      <td>3</td>\n",
       "    </tr>\n",
       "    <tr>\n",
       "      <th>2</th>\n",
       "      <td>Caitlin</td>\n",
       "      <td>Yum!</td>\n",
       "      <td>Really good. Great gift for any fan of green t...</td>\n",
       "      <td>4</td>\n",
       "    </tr>\n",
       "    <tr>\n",
       "      <th>3</th>\n",
       "      <td>DebraDownSth</td>\n",
       "      <td>Unexpected flavor meld</td>\n",
       "      <td>I had never had it before, was curious to see ...</td>\n",
       "      <td>5</td>\n",
       "    </tr>\n",
       "    <tr>\n",
       "      <th>4</th>\n",
       "      <td>Diana X.</td>\n",
       "      <td>Not a very strong tea flavor, but still yummy ...</td>\n",
       "      <td>I've been looking forward to trying these afte...</td>\n",
       "      <td>4</td>\n",
       "    </tr>\n",
       "  </tbody>\n",
       "</table>\n",
       "</div>"
      ],
      "text/plain": [
       "      reviewerName                                            summary  \\\n",
       "0  Amazon Customer                                         Good Taste   \n",
       "1          amf0001  3.5 stars,  sadly not as wonderful as I had hoped   \n",
       "2          Caitlin                                               Yum!   \n",
       "3     DebraDownSth                             Unexpected flavor meld   \n",
       "4         Diana X.  Not a very strong tea flavor, but still yummy ...   \n",
       "\n",
       "                                          reviewText  overall  \n",
       "0  Just another flavor of Kit Kat but the taste i...        4  \n",
       "1  I bought this on impulse and it comes from Jap...        3  \n",
       "2  Really good. Great gift for any fan of green t...        4  \n",
       "3  I had never had it before, was curious to see ...        5  \n",
       "4  I've been looking forward to trying these afte...        4  "
      ]
     },
     "execution_count": 9,
     "metadata": {},
     "output_type": "execute_result"
    }
   ],
   "source": [
    "first_column = data_reviews.pop('summary')\n",
    "data_reviews.insert(1, 'summary', first_column)\n",
    "data_reviews.head()"
   ]
  },
  {
   "cell_type": "markdown",
   "metadata": {},
   "source": [
    "### Pipeline de preprocesado"
   ]
  },
  {
   "cell_type": "markdown",
   "metadata": {},
   "source": [
    "En base al pipeline del notebook 3, customizamos nuestro propio proceso en una única función para que nos devuelva un string de palabras separadas por espacio."
   ]
  },
  {
   "cell_type": "code",
   "execution_count": 20,
   "metadata": {},
   "outputs": [
    {
     "name": "stdout",
     "output_type": "stream",
     "text": [
      "313882\n",
      "another flavor kit kat taste unique bit different thing bothersome price thought bit expensive bought impulse come japan amused family weird stamp marking package fun said would take month arrive take long hoping interesting taste family tasted bit le flavorful weaker standard milk chocolate kit kat green tea flavor subtle sugar tasted sweet wafer crispy good tasted bit anemic u happy bought need buy really good great gift fan green tea expensive purchase candy across sea never curious see like smooth great subtle good flavor ordering plan make routine looking forward trying hearing popular japan among kit kat fan well recommend ordering warm weather melt become smushy ordered mine right summer began bit mushy let solidify room temp afterwards tried tasted fine expecting stronger green tea matcha flavor actually quite subtle outer coating creamy overly sugary liked overall say insanely good definitely yummy treat kit kat good looking strong green tea flavor disappointed green tea flavo\n"
     ]
    }
   ],
   "source": [
    "import unicodedata\n",
    "from num2words import num2words\n",
    "\n",
    "from nltk import RegexpTokenizer\n",
    "from nltk.corpus import stopwords\n",
    "from nltk.stem import WordNetLemmatizer\n",
    "\n",
    "tokenizer = RegexpTokenizer(r'\\w+')\n",
    "sw_list = stopwords.words('english')\n",
    "lemmatizer = WordNetLemmatizer() \n",
    "\n",
    "def nltk_cleaner(text, tokenizer, sw_list, lemmatizer):\n",
    "    clean_text = list()\n",
    "    text_ = list()\n",
    "\n",
    "    for sentence in text:\n",
    "        text_.append(unicodedata.normalize('NFKD', sentence).encode('ascii', 'ignore').decode('utf-8', 'ignore'))\n",
    "\n",
    "        for word in tokenizer.tokenize(sentence):\n",
    "            #No elimina StopWords y no sé por qué\n",
    "            if word not in sw_list:\n",
    "                word_no_SW = ''.join(word)\n",
    "                clean_word = lemmatizer.lemmatize(word_no_SW).lower().strip()\n",
    "\n",
    "                if clean_word.isdigit():\n",
    "                    clean_word = num2words(clean_word, lang='en')\n",
    "\n",
    "                clean_text.append(clean_word)\n",
    "            clean_sentences = ' '.join(clean_text)\n",
    "        text_total = ''.join(clean_sentences)\n",
    "        \n",
    "    #return text_total    // con este return no aparecen filtradas las StopWords, \n",
    "    # Se implementa en el return una nueva función    \n",
    "    return ' '.join([word for word in text_total.split() if word not in sw_list])\n",
    "\n",
    "tokenizer = RegexpTokenizer(r'\\w+')\n",
    "sw_list = stopwords.words('english')\n",
    "lemmatizer = WordNetLemmatizer()   \n",
    "\n",
    "data_rev = nltk_cleaner(data_reviews['reviewText'][:1000], tokenizer, sw_list, lemmatizer)\n",
    "print(len(data_rev))\n",
    "print(data_rev[:1000])"
   ]
  },
  {
   "cell_type": "code",
   "execution_count": null,
   "metadata": {},
   "outputs": [],
   "source": [
    "Sentences = ' '.join([word for word in text_total.split() if word not in sw_list])"
   ]
  }
 ],
 "metadata": {
  "kernelspec": {
   "display_name": "Python 3",
   "language": "python",
   "name": "python3"
  },
  "language_info": {
   "codemirror_mode": {
    "name": "ipython",
    "version": 3
   },
   "file_extension": ".py",
   "mimetype": "text/x-python",
   "name": "python",
   "nbconvert_exporter": "python",
   "pygments_lexer": "ipython3",
   "version": "3.7.6"
  }
 },
 "nbformat": 4,
 "nbformat_minor": 4
}
