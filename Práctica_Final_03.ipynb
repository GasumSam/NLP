{
 "cells": [
  {
   "cell_type": "markdown",
   "metadata": {},
   "source": [
    "## Big Data ML AI 7 - José Manuel Guzmán Gutiérrez\n",
    "# Práctica Final NLP\n",
    "### Ejercicio 3 -  Etapa de entrenamiento y testeo de un modelo de análisis de sentimiento"
   ]
  },
  {
   "cell_type": "markdown",
   "metadata": {},
   "source": [
    "-------------"
   ]
  },
  {
   "cell_type": "markdown",
   "metadata": {},
   "source": [
    "### Cargamos los datos (Repetimos los primeros pasos del anterior ejercicio)"
   ]
  },
  {
   "cell_type": "code",
   "execution_count": 1,
   "metadata": {},
   "outputs": [],
   "source": [
    "import pandas as pd\n",
    "import glob\n",
    "import os"
   ]
  },
  {
   "cell_type": "code",
   "execution_count": 2,
   "metadata": {},
   "outputs": [],
   "source": [
    "data_reviews = pd.read_json('./data/reviews_Grocery_and_Gourmet_Food_5.json.gz', lines=True, compression='gzip')"
   ]
  },
  {
   "cell_type": "code",
   "execution_count": 3,
   "metadata": {},
   "outputs": [
    {
     "data": {
      "text/html": [
       "<div>\n",
       "<style scoped>\n",
       "    .dataframe tbody tr th:only-of-type {\n",
       "        vertical-align: middle;\n",
       "    }\n",
       "\n",
       "    .dataframe tbody tr th {\n",
       "        vertical-align: top;\n",
       "    }\n",
       "\n",
       "    .dataframe thead th {\n",
       "        text-align: right;\n",
       "    }\n",
       "</style>\n",
       "<table border=\"1\" class=\"dataframe\">\n",
       "  <thead>\n",
       "    <tr style=\"text-align: right;\">\n",
       "      <th></th>\n",
       "      <th>reviewerID</th>\n",
       "      <th>asin</th>\n",
       "      <th>reviewerName</th>\n",
       "      <th>helpful</th>\n",
       "      <th>reviewText</th>\n",
       "      <th>overall</th>\n",
       "      <th>summary</th>\n",
       "      <th>unixReviewTime</th>\n",
       "      <th>reviewTime</th>\n",
       "    </tr>\n",
       "  </thead>\n",
       "  <tbody>\n",
       "    <tr>\n",
       "      <th>0</th>\n",
       "      <td>A1VEELTKS8NLZB</td>\n",
       "      <td>616719923X</td>\n",
       "      <td>Amazon Customer</td>\n",
       "      <td>[0, 0]</td>\n",
       "      <td>Just another flavor of Kit Kat but the taste i...</td>\n",
       "      <td>4</td>\n",
       "      <td>Good Taste</td>\n",
       "      <td>1370044800</td>\n",
       "      <td>06 1, 2013</td>\n",
       "    </tr>\n",
       "    <tr>\n",
       "      <th>1</th>\n",
       "      <td>A14R9XMZVJ6INB</td>\n",
       "      <td>616719923X</td>\n",
       "      <td>amf0001</td>\n",
       "      <td>[0, 1]</td>\n",
       "      <td>I bought this on impulse and it comes from Jap...</td>\n",
       "      <td>3</td>\n",
       "      <td>3.5 stars,  sadly not as wonderful as I had hoped</td>\n",
       "      <td>1400457600</td>\n",
       "      <td>05 19, 2014</td>\n",
       "    </tr>\n",
       "    <tr>\n",
       "      <th>2</th>\n",
       "      <td>A27IQHDZFQFNGG</td>\n",
       "      <td>616719923X</td>\n",
       "      <td>Caitlin</td>\n",
       "      <td>[3, 4]</td>\n",
       "      <td>Really good. Great gift for any fan of green t...</td>\n",
       "      <td>4</td>\n",
       "      <td>Yum!</td>\n",
       "      <td>1381190400</td>\n",
       "      <td>10 8, 2013</td>\n",
       "    </tr>\n",
       "    <tr>\n",
       "      <th>3</th>\n",
       "      <td>A31QY5TASILE89</td>\n",
       "      <td>616719923X</td>\n",
       "      <td>DebraDownSth</td>\n",
       "      <td>[0, 0]</td>\n",
       "      <td>I had never had it before, was curious to see ...</td>\n",
       "      <td>5</td>\n",
       "      <td>Unexpected flavor meld</td>\n",
       "      <td>1369008000</td>\n",
       "      <td>05 20, 2013</td>\n",
       "    </tr>\n",
       "    <tr>\n",
       "      <th>4</th>\n",
       "      <td>A2LWK003FFMCI5</td>\n",
       "      <td>616719923X</td>\n",
       "      <td>Diana X.</td>\n",
       "      <td>[1, 2]</td>\n",
       "      <td>I've been looking forward to trying these afte...</td>\n",
       "      <td>4</td>\n",
       "      <td>Not a very strong tea flavor, but still yummy ...</td>\n",
       "      <td>1369526400</td>\n",
       "      <td>05 26, 2013</td>\n",
       "    </tr>\n",
       "    <tr>\n",
       "      <th>...</th>\n",
       "      <td>...</td>\n",
       "      <td>...</td>\n",
       "      <td>...</td>\n",
       "      <td>...</td>\n",
       "      <td>...</td>\n",
       "      <td>...</td>\n",
       "      <td>...</td>\n",
       "      <td>...</td>\n",
       "      <td>...</td>\n",
       "    </tr>\n",
       "    <tr>\n",
       "      <th>95</th>\n",
       "      <td>A1R19K6O4IAF5W</td>\n",
       "      <td>B0000CDEPD</td>\n",
       "      <td>Terry</td>\n",
       "      <td>[2, 2]</td>\n",
       "      <td>Very good vanilla extract and organic too! Thi...</td>\n",
       "      <td>5</td>\n",
       "      <td>Much easier than making your own.</td>\n",
       "      <td>1365292800</td>\n",
       "      <td>04 7, 2013</td>\n",
       "    </tr>\n",
       "    <tr>\n",
       "      <th>96</th>\n",
       "      <td>AY8UH4COUYMGZ</td>\n",
       "      <td>B0000CDEPD</td>\n",
       "      <td>ttt</td>\n",
       "      <td>[1, 2]</td>\n",
       "      <td>This bottle is a steal, at Whole Foods (at lea...</td>\n",
       "      <td>5</td>\n",
       "      <td>The Only Vanilla I'll Buy From Now On!</td>\n",
       "      <td>1373673600</td>\n",
       "      <td>07 13, 2013</td>\n",
       "    </tr>\n",
       "    <tr>\n",
       "      <th>97</th>\n",
       "      <td>A1RVOM92NT7WTM</td>\n",
       "      <td>B0000CDEPD</td>\n",
       "      <td>Vickie D.</td>\n",
       "      <td>[0, 0]</td>\n",
       "      <td>Very good and even better knowing it is organi...</td>\n",
       "      <td>5</td>\n",
       "      <td>Added it to my subscribe</td>\n",
       "      <td>1398643200</td>\n",
       "      <td>04 28, 2014</td>\n",
       "    </tr>\n",
       "    <tr>\n",
       "      <th>98</th>\n",
       "      <td>A31EZQGRVKKYAZ</td>\n",
       "      <td>B0000CETGM</td>\n",
       "      <td>J. Hesse</td>\n",
       "      <td>[1, 2]</td>\n",
       "      <td>Jamaica Blue Mountain Coffee is my absolute fa...</td>\n",
       "      <td>5</td>\n",
       "      <td>My favorite coffee</td>\n",
       "      <td>1369008000</td>\n",
       "      <td>05 20, 2013</td>\n",
       "    </tr>\n",
       "    <tr>\n",
       "      <th>99</th>\n",
       "      <td>A1BHCRAPM0OI1W</td>\n",
       "      <td>B0000CETGM</td>\n",
       "      <td>Jim at Lansing \"Amazon is great, and offers g...</td>\n",
       "      <td>[0, 0]</td>\n",
       "      <td>The coffee does have a production date and bes...</td>\n",
       "      <td>3</td>\n",
       "      <td>Be aware of this produce</td>\n",
       "      <td>1322092800</td>\n",
       "      <td>11 24, 2011</td>\n",
       "    </tr>\n",
       "  </tbody>\n",
       "</table>\n",
       "<p>100 rows × 9 columns</p>\n",
       "</div>"
      ],
      "text/plain": [
       "        reviewerID        asin  \\\n",
       "0   A1VEELTKS8NLZB  616719923X   \n",
       "1   A14R9XMZVJ6INB  616719923X   \n",
       "2   A27IQHDZFQFNGG  616719923X   \n",
       "3   A31QY5TASILE89  616719923X   \n",
       "4   A2LWK003FFMCI5  616719923X   \n",
       "..             ...         ...   \n",
       "95  A1R19K6O4IAF5W  B0000CDEPD   \n",
       "96   AY8UH4COUYMGZ  B0000CDEPD   \n",
       "97  A1RVOM92NT7WTM  B0000CDEPD   \n",
       "98  A31EZQGRVKKYAZ  B0000CETGM   \n",
       "99  A1BHCRAPM0OI1W  B0000CETGM   \n",
       "\n",
       "                                        reviewerName helpful  \\\n",
       "0                                    Amazon Customer  [0, 0]   \n",
       "1                                            amf0001  [0, 1]   \n",
       "2                                            Caitlin  [3, 4]   \n",
       "3                                       DebraDownSth  [0, 0]   \n",
       "4                                           Diana X.  [1, 2]   \n",
       "..                                               ...     ...   \n",
       "95                                             Terry  [2, 2]   \n",
       "96                                               ttt  [1, 2]   \n",
       "97                                         Vickie D.  [0, 0]   \n",
       "98                                          J. Hesse  [1, 2]   \n",
       "99  Jim at Lansing \"Amazon is great, and offers g...  [0, 0]   \n",
       "\n",
       "                                           reviewText  overall  \\\n",
       "0   Just another flavor of Kit Kat but the taste i...        4   \n",
       "1   I bought this on impulse and it comes from Jap...        3   \n",
       "2   Really good. Great gift for any fan of green t...        4   \n",
       "3   I had never had it before, was curious to see ...        5   \n",
       "4   I've been looking forward to trying these afte...        4   \n",
       "..                                                ...      ...   \n",
       "95  Very good vanilla extract and organic too! Thi...        5   \n",
       "96  This bottle is a steal, at Whole Foods (at lea...        5   \n",
       "97  Very good and even better knowing it is organi...        5   \n",
       "98  Jamaica Blue Mountain Coffee is my absolute fa...        5   \n",
       "99  The coffee does have a production date and bes...        3   \n",
       "\n",
       "                                              summary  unixReviewTime  \\\n",
       "0                                          Good Taste      1370044800   \n",
       "1   3.5 stars,  sadly not as wonderful as I had hoped      1400457600   \n",
       "2                                                Yum!      1381190400   \n",
       "3                              Unexpected flavor meld      1369008000   \n",
       "4   Not a very strong tea flavor, but still yummy ...      1369526400   \n",
       "..                                                ...             ...   \n",
       "95                  Much easier than making your own.      1365292800   \n",
       "96             The Only Vanilla I'll Buy From Now On!      1373673600   \n",
       "97                           Added it to my subscribe      1398643200   \n",
       "98                                 My favorite coffee      1369008000   \n",
       "99                           Be aware of this produce      1322092800   \n",
       "\n",
       "     reviewTime  \n",
       "0    06 1, 2013  \n",
       "1   05 19, 2014  \n",
       "2    10 8, 2013  \n",
       "3   05 20, 2013  \n",
       "4   05 26, 2013  \n",
       "..          ...  \n",
       "95   04 7, 2013  \n",
       "96  07 13, 2013  \n",
       "97  04 28, 2014  \n",
       "98  05 20, 2013  \n",
       "99  11 24, 2011  \n",
       "\n",
       "[100 rows x 9 columns]"
      ]
     },
     "execution_count": 3,
     "metadata": {},
     "output_type": "execute_result"
    }
   ],
   "source": [
    "data_reviews[:100]"
   ]
  },
  {
   "cell_type": "code",
   "execution_count": 4,
   "metadata": {},
   "outputs": [
    {
     "data": {
      "text/plain": [
       "(151254, 9)"
      ]
     },
     "execution_count": 4,
     "metadata": {},
     "output_type": "execute_result"
    }
   ],
   "source": [
    "data_reviews.shape"
   ]
  },
  {
   "cell_type": "code",
   "execution_count": 5,
   "metadata": {},
   "outputs": [],
   "source": [
    "data_reviews = pd.DataFrame(data_reviews)"
   ]
  },
  {
   "cell_type": "code",
   "execution_count": 6,
   "metadata": {},
   "outputs": [
    {
     "data": {
      "text/plain": [
       "reviewerID        object\n",
       "asin              object\n",
       "reviewerName      object\n",
       "helpful           object\n",
       "reviewText        object\n",
       "overall            int64\n",
       "summary           object\n",
       "unixReviewTime     int64\n",
       "reviewTime        object\n",
       "dtype: object"
      ]
     },
     "execution_count": 6,
     "metadata": {},
     "output_type": "execute_result"
    }
   ],
   "source": [
    "data_reviews.dtypes"
   ]
  },
  {
   "cell_type": "markdown",
   "metadata": {},
   "source": [
    "Contamos con 151254 registros para 9 columnas de información"
   ]
  },
  {
   "cell_type": "markdown",
   "metadata": {},
   "source": [
    "Para nuestro análisis de sentimiento, vamos a catalogar los comentarios en base a las estrellas, por lo que nos quedaremos ahora solo con las columnas _**reviewText**_ y _**overall**_ ."
   ]
  },
  {
   "cell_type": "code",
   "execution_count": 7,
   "metadata": {},
   "outputs": [],
   "source": [
    "data_reviews = data_reviews.drop(['reviewerID'], axis=1)\n",
    "data_reviews = data_reviews.drop(['asin'], axis=1)\n",
    "data_reviews = data_reviews.drop(['helpful'], axis=1)\n",
    "data_reviews = data_reviews.drop(['unixReviewTime'], axis=1)\n",
    "data_reviews = data_reviews.drop(['reviewTime'], axis=1)\n",
    "data_reviews = data_reviews.drop(['reviewerName'], axis=1)\n",
    "data_reviews = data_reviews.drop(['summary'], axis=1)"
   ]
  },
  {
   "cell_type": "code",
   "execution_count": 8,
   "metadata": {},
   "outputs": [
    {
     "data": {
      "text/html": [
       "<div>\n",
       "<style scoped>\n",
       "    .dataframe tbody tr th:only-of-type {\n",
       "        vertical-align: middle;\n",
       "    }\n",
       "\n",
       "    .dataframe tbody tr th {\n",
       "        vertical-align: top;\n",
       "    }\n",
       "\n",
       "    .dataframe thead th {\n",
       "        text-align: right;\n",
       "    }\n",
       "</style>\n",
       "<table border=\"1\" class=\"dataframe\">\n",
       "  <thead>\n",
       "    <tr style=\"text-align: right;\">\n",
       "      <th></th>\n",
       "      <th>reviewText</th>\n",
       "      <th>overall</th>\n",
       "    </tr>\n",
       "  </thead>\n",
       "  <tbody>\n",
       "    <tr>\n",
       "      <th>0</th>\n",
       "      <td>Just another flavor of Kit Kat but the taste i...</td>\n",
       "      <td>4</td>\n",
       "    </tr>\n",
       "    <tr>\n",
       "      <th>1</th>\n",
       "      <td>I bought this on impulse and it comes from Jap...</td>\n",
       "      <td>3</td>\n",
       "    </tr>\n",
       "    <tr>\n",
       "      <th>2</th>\n",
       "      <td>Really good. Great gift for any fan of green t...</td>\n",
       "      <td>4</td>\n",
       "    </tr>\n",
       "    <tr>\n",
       "      <th>3</th>\n",
       "      <td>I had never had it before, was curious to see ...</td>\n",
       "      <td>5</td>\n",
       "    </tr>\n",
       "    <tr>\n",
       "      <th>4</th>\n",
       "      <td>I've been looking forward to trying these afte...</td>\n",
       "      <td>4</td>\n",
       "    </tr>\n",
       "  </tbody>\n",
       "</table>\n",
       "</div>"
      ],
      "text/plain": [
       "                                          reviewText  overall\n",
       "0  Just another flavor of Kit Kat but the taste i...        4\n",
       "1  I bought this on impulse and it comes from Jap...        3\n",
       "2  Really good. Great gift for any fan of green t...        4\n",
       "3  I had never had it before, was curious to see ...        5\n",
       "4  I've been looking forward to trying these afte...        4"
      ]
     },
     "execution_count": 8,
     "metadata": {},
     "output_type": "execute_result"
    }
   ],
   "source": [
    "data_reviews.head()"
   ]
  },
  {
   "cell_type": "markdown",
   "metadata": {},
   "source": [
    "### Preprocesado"
   ]
  },
  {
   "cell_type": "markdown",
   "metadata": {},
   "source": [
    "Vamos a generar un nuevo dataset con etiquetas de sentimiento y texto normalizado."
   ]
  },
  {
   "cell_type": "code",
   "execution_count": 9,
   "metadata": {},
   "outputs": [
    {
     "data": {
      "text/html": [
       "<div>\n",
       "<style scoped>\n",
       "    .dataframe tbody tr th:only-of-type {\n",
       "        vertical-align: middle;\n",
       "    }\n",
       "\n",
       "    .dataframe tbody tr th {\n",
       "        vertical-align: top;\n",
       "    }\n",
       "\n",
       "    .dataframe thead th {\n",
       "        text-align: right;\n",
       "    }\n",
       "</style>\n",
       "<table border=\"1\" class=\"dataframe\">\n",
       "  <thead>\n",
       "    <tr style=\"text-align: right;\">\n",
       "      <th></th>\n",
       "      <th>reviewText</th>\n",
       "      <th>overall</th>\n",
       "      <th>normalized</th>\n",
       "    </tr>\n",
       "  </thead>\n",
       "  <tbody>\n",
       "    <tr>\n",
       "      <th>0</th>\n",
       "      <td>Just another flavor of Kit Kat but the taste i...</td>\n",
       "      <td>4</td>\n",
       "      <td>another flavor kit kat taste unique bit differ...</td>\n",
       "    </tr>\n",
       "    <tr>\n",
       "      <th>1</th>\n",
       "      <td>I bought this on impulse and it comes from Jap...</td>\n",
       "      <td>3</td>\n",
       "      <td>bought impulse come japan amused family weird ...</td>\n",
       "    </tr>\n",
       "    <tr>\n",
       "      <th>2</th>\n",
       "      <td>Really good. Great gift for any fan of green t...</td>\n",
       "      <td>4</td>\n",
       "      <td>really good great gift fan green tea expensive...</td>\n",
       "    </tr>\n",
       "    <tr>\n",
       "      <th>3</th>\n",
       "      <td>I had never had it before, was curious to see ...</td>\n",
       "      <td>5</td>\n",
       "      <td>never curious see like smooth great subtle goo...</td>\n",
       "    </tr>\n",
       "    <tr>\n",
       "      <th>4</th>\n",
       "      <td>I've been looking forward to trying these afte...</td>\n",
       "      <td>4</td>\n",
       "      <td>looking forward trying hearing popular japan a...</td>\n",
       "    </tr>\n",
       "  </tbody>\n",
       "</table>\n",
       "</div>"
      ],
      "text/plain": [
       "                                          reviewText  overall  \\\n",
       "0  Just another flavor of Kit Kat but the taste i...        4   \n",
       "1  I bought this on impulse and it comes from Jap...        3   \n",
       "2  Really good. Great gift for any fan of green t...        4   \n",
       "3  I had never had it before, was curious to see ...        5   \n",
       "4  I've been looking forward to trying these afte...        4   \n",
       "\n",
       "                                          normalized  \n",
       "0  another flavor kit kat taste unique bit differ...  \n",
       "1  bought impulse come japan amused family weird ...  \n",
       "2  really good great gift fan green tea expensive...  \n",
       "3  never curious see like smooth great subtle goo...  \n",
       "4  looking forward trying hearing popular japan a...  "
      ]
     },
     "execution_count": 9,
     "metadata": {},
     "output_type": "execute_result"
    }
   ],
   "source": [
    "import unicodedata\n",
    "from num2words import num2words\n",
    "\n",
    "from nltk import RegexpTokenizer\n",
    "from nltk.corpus import stopwords\n",
    "from nltk.stem import WordNetLemmatizer\n",
    "\n",
    "def nltk_cleaner(text, tokenizer, sw_list, lemmatizer):\n",
    "    sentences = list()\n",
    "    for sentence in text:\n",
    "        \n",
    "        clean_text = []\n",
    "        \n",
    "        sentence = unicodedata.normalize('NFKD', sentence).encode('ascii', 'ignore').decode('utf-8', 'ignore')\n",
    "        for word in tokenizer.tokenize(sentence):\n",
    "\n",
    "            if word not in sw_list:\n",
    "\n",
    "                clean_word = lemmatizer.lemmatize(word).lower().strip()\n",
    "\n",
    "                if clean_word.isdigit():\n",
    "                    clean_word = num2words(clean_word, lang='en')\n",
    "\n",
    "                clean_text.append(clean_word)\n",
    "            clean_text_ = ' '.join([word for word in clean_text if word not in sw_list])\n",
    "\n",
    "        sentences.append(clean_text_)\n",
    "    return sentences\n",
    "\n",
    "tokenizer = RegexpTokenizer(r'\\w+')\n",
    "sw_list = stopwords.words('english')\n",
    "lemmatizer = WordNetLemmatizer()\n",
    "\n",
    "data_reviews['normalized'] = nltk_cleaner(data_reviews['reviewText'], tokenizer, sw_list, lemmatizer)\n",
    "data_reviews.head()\n"
   ]
  },
  {
   "cell_type": "markdown",
   "metadata": {},
   "source": [
    "Al ser un modelo de clasificación binaria, codificamos los comentarios de 1 y 2 estrellas como negativos (0) y los de 3, 4 y 5 como positivos (1)."
   ]
  },
  {
   "cell_type": "code",
   "execution_count": 10,
   "metadata": {},
   "outputs": [
    {
     "data": {
      "text/html": [
       "<div>\n",
       "<style scoped>\n",
       "    .dataframe tbody tr th:only-of-type {\n",
       "        vertical-align: middle;\n",
       "    }\n",
       "\n",
       "    .dataframe tbody tr th {\n",
       "        vertical-align: top;\n",
       "    }\n",
       "\n",
       "    .dataframe thead th {\n",
       "        text-align: right;\n",
       "    }\n",
       "</style>\n",
       "<table border=\"1\" class=\"dataframe\">\n",
       "  <thead>\n",
       "    <tr style=\"text-align: right;\">\n",
       "      <th></th>\n",
       "      <th>reviewText</th>\n",
       "      <th>overall</th>\n",
       "      <th>normalized</th>\n",
       "      <th>feeling</th>\n",
       "    </tr>\n",
       "  </thead>\n",
       "  <tbody>\n",
       "    <tr>\n",
       "      <th>0</th>\n",
       "      <td>Just another flavor of Kit Kat but the taste i...</td>\n",
       "      <td>4</td>\n",
       "      <td>another flavor kit kat taste unique bit differ...</td>\n",
       "      <td>1</td>\n",
       "    </tr>\n",
       "    <tr>\n",
       "      <th>1</th>\n",
       "      <td>I bought this on impulse and it comes from Jap...</td>\n",
       "      <td>3</td>\n",
       "      <td>bought impulse come japan amused family weird ...</td>\n",
       "      <td>1</td>\n",
       "    </tr>\n",
       "    <tr>\n",
       "      <th>2</th>\n",
       "      <td>Really good. Great gift for any fan of green t...</td>\n",
       "      <td>4</td>\n",
       "      <td>really good great gift fan green tea expensive...</td>\n",
       "      <td>1</td>\n",
       "    </tr>\n",
       "    <tr>\n",
       "      <th>3</th>\n",
       "      <td>I had never had it before, was curious to see ...</td>\n",
       "      <td>5</td>\n",
       "      <td>never curious see like smooth great subtle goo...</td>\n",
       "      <td>1</td>\n",
       "    </tr>\n",
       "    <tr>\n",
       "      <th>4</th>\n",
       "      <td>I've been looking forward to trying these afte...</td>\n",
       "      <td>4</td>\n",
       "      <td>looking forward trying hearing popular japan a...</td>\n",
       "      <td>1</td>\n",
       "    </tr>\n",
       "  </tbody>\n",
       "</table>\n",
       "</div>"
      ],
      "text/plain": [
       "                                          reviewText  overall  \\\n",
       "0  Just another flavor of Kit Kat but the taste i...        4   \n",
       "1  I bought this on impulse and it comes from Jap...        3   \n",
       "2  Really good. Great gift for any fan of green t...        4   \n",
       "3  I had never had it before, was curious to see ...        5   \n",
       "4  I've been looking forward to trying these afte...        4   \n",
       "\n",
       "                                          normalized  feeling  \n",
       "0  another flavor kit kat taste unique bit differ...        1  \n",
       "1  bought impulse come japan amused family weird ...        1  \n",
       "2  really good great gift fan green tea expensive...        1  \n",
       "3  never curious see like smooth great subtle goo...        1  \n",
       "4  looking forward trying hearing popular japan a...        1  "
      ]
     },
     "execution_count": 10,
     "metadata": {},
     "output_type": "execute_result"
    }
   ],
   "source": [
    "def label_sentiment(row):\n",
    "    if int(row['overall']) < 3:\n",
    "        return 0\n",
    "    else:\n",
    "        return 1\n",
    "    \n",
    "data_reviews['feeling'] = data_reviews.apply(lambda row: label_sentiment(row), axis=1)\n",
    "\n",
    "data_reviews.head()"
   ]
  },
  {
   "cell_type": "markdown",
   "metadata": {},
   "source": [
    "### Balanceo de estrellas"
   ]
  },
  {
   "cell_type": "code",
   "execution_count": 36,
   "metadata": {},
   "outputs": [
    {
     "data": {
      "text/plain": [
       "0"
      ]
     },
     "execution_count": 36,
     "metadata": {},
     "output_type": "execute_result"
    }
   ],
   "source": [
    "data_reviews['feeling'].isna().sum()"
   ]
  },
  {
   "cell_type": "markdown",
   "metadata": {},
   "source": [
    "Aligeramos el dataset."
   ]
  },
  {
   "cell_type": "code",
   "execution_count": 37,
   "metadata": {},
   "outputs": [
    {
     "data": {
      "text/html": [
       "<div>\n",
       "<style scoped>\n",
       "    .dataframe tbody tr th:only-of-type {\n",
       "        vertical-align: middle;\n",
       "    }\n",
       "\n",
       "    .dataframe tbody tr th {\n",
       "        vertical-align: top;\n",
       "    }\n",
       "\n",
       "    .dataframe thead th {\n",
       "        text-align: right;\n",
       "    }\n",
       "</style>\n",
       "<table border=\"1\" class=\"dataframe\">\n",
       "  <thead>\n",
       "    <tr style=\"text-align: right;\">\n",
       "      <th></th>\n",
       "      <th>normalized</th>\n",
       "      <th>feeling</th>\n",
       "    </tr>\n",
       "  </thead>\n",
       "  <tbody>\n",
       "    <tr>\n",
       "      <th>0</th>\n",
       "      <td>another flavor kit kat taste unique bit differ...</td>\n",
       "      <td>1</td>\n",
       "    </tr>\n",
       "    <tr>\n",
       "      <th>1</th>\n",
       "      <td>bought impulse come japan amused family weird ...</td>\n",
       "      <td>1</td>\n",
       "    </tr>\n",
       "    <tr>\n",
       "      <th>2</th>\n",
       "      <td>really good great gift fan green tea expensive...</td>\n",
       "      <td>1</td>\n",
       "    </tr>\n",
       "    <tr>\n",
       "      <th>3</th>\n",
       "      <td>never curious see like smooth great subtle goo...</td>\n",
       "      <td>1</td>\n",
       "    </tr>\n",
       "    <tr>\n",
       "      <th>4</th>\n",
       "      <td>looking forward trying hearing popular japan a...</td>\n",
       "      <td>1</td>\n",
       "    </tr>\n",
       "  </tbody>\n",
       "</table>\n",
       "</div>"
      ],
      "text/plain": [
       "                                          normalized  feeling\n",
       "0  another flavor kit kat taste unique bit differ...        1\n",
       "1  bought impulse come japan amused family weird ...        1\n",
       "2  really good great gift fan green tea expensive...        1\n",
       "3  never curious see like smooth great subtle goo...        1\n",
       "4  looking forward trying hearing popular japan a...        1"
      ]
     },
     "execution_count": 37,
     "metadata": {},
     "output_type": "execute_result"
    }
   ],
   "source": [
    "data_reviews = data_reviews.drop(['reviewText','overall'],axis=1)\n",
    "data_reviews.head()"
   ]
  },
  {
   "cell_type": "code",
   "execution_count": 51,
   "metadata": {},
   "outputs": [
    {
     "data": {
      "text/plain": [
       "1    137558\n",
       "0     13696\n",
       "Name: feeling, dtype: int64"
      ]
     },
     "execution_count": 51,
     "metadata": {},
     "output_type": "execute_result"
    }
   ],
   "source": [
    "data_reviews['feeling'].value_counts()"
   ]
  },
  {
   "cell_type": "markdown",
   "metadata": {},
   "source": [
    "Una de las decisiones de trabajar con todos los registros ha sido la de realizar ahora un _under-sampling_ con las variables más numerosas."
   ]
  },
  {
   "cell_type": "code",
   "execution_count": 57,
   "metadata": {},
   "outputs": [
    {
     "name": "stdout",
     "output_type": "stream",
     "text": [
      "137558\n",
      "13696\n"
     ]
    }
   ],
   "source": [
    "feeling_1, feeling_0 = data_reviews['feeling'].value_counts()\n",
    "print(feeling_1)\n",
    "print(feeling_0)"
   ]
  },
  {
   "cell_type": "code",
   "execution_count": 64,
   "metadata": {},
   "outputs": [
    {
     "name": "stdout",
     "output_type": "stream",
     "text": [
      "Random under-sampling:\n",
      "0    13696\n",
      "1    13696\n",
      "Name: feeling, dtype: int64\n"
     ]
    },
    {
     "data": {
      "image/png": "[encoded data removed]",
      "text/plain": [
       "<Figure size 432x288 with 1 Axes>"
      ]
     },
     "metadata": {
      "needs_background": "light"
     },
     "output_type": "display_data"
    }
   ],
   "source": [
    "\n",
    "data_0 = data_reviews[data_reviews['feeling'] == 0]\n",
    "data_1 = data_reviews[data_reviews['feeling'] == 1]\n",
    "\n",
    "data_1_under = data_1.sample(feeling_0)\n",
    "data_test_under = pd.concat([data_1_under, data_0], axis=0)\n",
    "\n",
    "print('Random under-sampling:')\n",
    "print(data_test_under.feeling.value_counts())\n",
    "\n",
    "data_test_under.feeling.value_counts().plot(kind='bar', title='Count (feeling)');"
   ]
  },
  {
   "cell_type": "code",
   "execution_count": 67,
   "metadata": {},
   "outputs": [
    {
     "data": {
      "text/plain": [
       "(27392, 2)"
      ]
     },
     "execution_count": 67,
     "metadata": {},
     "output_type": "execute_result"
    }
   ],
   "source": [
    "data_test_under.shape"
   ]
  },
  {
   "cell_type": "code",
   "execution_count": 70,
   "metadata": {},
   "outputs": [
    {
     "name": "stdout",
     "output_type": "stream",
     "text": [
      "(27392, 2)\n",
      "                                               normalized  feeling\n",
      "24112   provide part daily allowance fruit call thirty...        1\n",
      "2983    item great make laundry detergent consists six...        1\n",
      "74485   love annie product good chemical gmo laden tas...        1\n",
      "135242  chia seed considered one super food add nutrib...        1\n",
      "105740  nearly four year saw mcvitie brand available a...        1\n"
     ]
    }
   ],
   "source": [
    "data_reviews_B = data_test_under\n",
    "print(data_reviews_B.shape)\n",
    "print(data_reviews_B.head())"
   ]
  },
  {
   "cell_type": "markdown",
   "metadata": {},
   "source": [
    "Continuamos con el dataset balanceado."
   ]
  },
  {
   "cell_type": "markdown",
   "metadata": {},
   "source": [
    "### Train y test (Balanceado)"
   ]
  },
  {
   "cell_type": "code",
   "execution_count": 71,
   "metadata": {},
   "outputs": [],
   "source": [
    "from sklearn.model_selection import train_test_split\n",
    "\n",
    "X_train, X_test, y_train, y_test = train_test_split(\n",
    "    data_reviews_B['normalized'],\n",
    "    data_reviews_B['feeling'],\n",
    "    train_size=0.75,\n",
    "    test_size=0.25,\n",
    "    random_state=42,\n",
    "    shuffle=True\n",
    ")"
   ]
  },
  {
   "cell_type": "code",
   "execution_count": 72,
   "metadata": {},
   "outputs": [
    {
     "data": {
      "text/plain": [
       "115330    yes lot expensive white sugar much better bett...\n",
       "92351     bag say pecan halves half intact broken want d...\n",
       "136423    wanted try kale chip strongly promoted cook he...\n",
       "123688    thought like blech seemed harder spread tasted...\n",
       "36391     almond good taste terrific covered seasoning e...\n",
       "12287     purchased erin bakers becuase thought made tru...\n",
       "7929      trail mix pretty good like spice good size goo...\n",
       "102475    think many people would argue kind processed c...\n",
       "55438     dandelion detox loose leaf tea great poor live...\n",
       "32010     tea fantastic strong find need le recommend li...\n",
       "Name: normalized, dtype: object"
      ]
     },
     "execution_count": 72,
     "metadata": {},
     "output_type": "execute_result"
    }
   ],
   "source": [
    "X_train.iloc[:10]"
   ]
  },
  {
   "cell_type": "code",
   "execution_count": 73,
   "metadata": {},
   "outputs": [
    {
     "data": {
      "text/plain": [
       "115330    1\n",
       "92351     0\n",
       "136423    0\n",
       "123688    0\n",
       "36391     1\n",
       "12287     0\n",
       "7929      1\n",
       "102475    1\n",
       "55438     1\n",
       "32010     1\n",
       "Name: feeling, dtype: int64"
      ]
     },
     "execution_count": 73,
     "metadata": {},
     "output_type": "execute_result"
    }
   ],
   "source": [
    "y_train.iloc[:10]"
   ]
  },
  {
   "cell_type": "markdown",
   "metadata": {},
   "source": [
    "### Features"
   ]
  },
  {
   "cell_type": "code",
   "execution_count": 74,
   "metadata": {},
   "outputs": [
    {
     "data": {
      "text/plain": [
       "TfidfVectorizer(max_df=0.95, max_features=3000, min_df=5, strip_accents='ascii')"
      ]
     },
     "execution_count": 74,
     "metadata": {},
     "output_type": "execute_result"
    }
   ],
   "source": [
    "from sklearn.feature_extraction.text import CountVectorizer, TfidfVectorizer\n",
    "\n",
    "cv = TfidfVectorizer(\n",
    "    max_df=0.95,  # Eliminamos el 5% de los tokens más frecuentes\n",
    "    min_df=5, # Descartamos los tokens que no aparezcan al menos 5 veces\n",
    "    max_features=3000, # Elección de nuestro vocabulario\n",
    "    strip_accents='ascii',\n",
    "    ngram_range=(1, 1)  #bigramas y trigramas  #Nos quedamos con palabras, funciona mejor el modelo.\n",
    ")\n",
    "cv.fit(X_train)"
   ]
  },
  {
   "cell_type": "markdown",
   "metadata": {},
   "source": [
    "Con palabras el modelo funciona mejor que con bigramas y trigramas."
   ]
  },
  {
   "cell_type": "code",
   "execution_count": 75,
   "metadata": {},
   "outputs": [
    {
     "name": "stdout",
     "output_type": "stream",
     "text": [
      "[('yes', 2983), ('lot', 1549), ('expensive', 919), ('white', 2929), ('sugar', 2580), ('much', 1707), ('better', 241), ('tasting', 2655), ('baking', 188), ('made', 1569), ('normal', 1762), ('baked', 185), ('good', 1141), ('gluten', 1127), ('free', 1064), ('taste', 2648), ('original', 1832), ('nestle', 1739), ('chocolate', 462), ('chip', 457)]\n"
     ]
    }
   ],
   "source": [
    "print(list(cv.vocabulary_.items())[:20])"
   ]
  },
  {
   "cell_type": "code",
   "execution_count": 76,
   "metadata": {},
   "outputs": [
    {
     "name": "stdout",
     "output_type": "stream",
     "text": [
      "3000\n"
     ]
    }
   ],
   "source": [
    "print(len(cv.vocabulary_))"
   ]
  },
  {
   "cell_type": "markdown",
   "metadata": {},
   "source": [
    "### Scores TD-IDF"
   ]
  },
  {
   "cell_type": "code",
   "execution_count": 77,
   "metadata": {},
   "outputs": [],
   "source": [
    "X_train_ = cv.transform(X_train)\n",
    "X_test_ = cv.transform(X_test)"
   ]
  },
  {
   "cell_type": "markdown",
   "metadata": {},
   "source": [
    "### Chi-cuadrado score"
   ]
  },
  {
   "cell_type": "code",
   "execution_count": 78,
   "metadata": {},
   "outputs": [
    {
     "data": {
      "image/png": "[encoded data removed]",
      "text/plain": [
       "<Figure size 864x576 with 1 Axes>"
      ]
     },
     "metadata": {
      "needs_background": "light"
     },
     "output_type": "display_data"
    }
   ],
   "source": [
    "from sklearn.feature_selection import chi2\n",
    "import matplotlib.pyplot as plt\n",
    "# Compute the chi-squared score for each word in the training set and show the values\n",
    "i = 15\n",
    "\n",
    "chi2score = chi2(X_train_, y_train)[0]\n",
    "scores = list(zip(cv.get_feature_names(), chi2score))\n",
    "sorted_scores = sorted(scores, key=lambda x:x[1])\n",
    "topchi2 = list(zip(*sorted_scores[-i:]))\n",
    "x = range(len(topchi2[1]))\n",
    "labels = topchi2[0]\n",
    "\n",
    "plt.figure(figsize=(12, 8))\n",
    "plt.barh(x,topchi2[1], align='center', alpha=0.5)\n",
    "plt.plot(topchi2[1], x, '-o', markersize=5, alpha=0.8)\n",
    "plt.yticks(x, labels, fontsize=12)\n",
    "plt.xlabel('$\\chi^2$', fontsize=26)\n",
    "plt.ylabel('word', fontsize=16)\n",
    "plt.title('Top {} $\\chi^2$ score for each word in the training set'.format(i), fontsize=20)\n",
    "plt.grid()\n",
    "plt.tight_layout()\n",
    "plt.show();"
   ]
  },
  {
   "cell_type": "markdown",
   "metadata": {},
   "source": [
    "### Entrenamiento para Regresión Logística (Balanceado)"
   ]
  },
  {
   "cell_type": "code",
   "execution_count": 79,
   "metadata": {},
   "outputs": [
    {
     "name": "stdout",
     "output_type": "stream",
     "text": [
      "Accuracy for C=0.01: 0.797751168224299\n",
      "Accuracy for C=0.05: 0.8097254672897196\n",
      "Accuracy for C=0.25: 0.828125\n",
      "Accuracy for C=0.5: 0.834696261682243\n",
      "Accuracy for C=1: 0.838054906542056\n",
      "Accuracy for C=10: 0.8278329439252337\n",
      "Accuracy for C=100: 0.8146904205607477\n",
      "Accuracy for C=1000: 0.8076810747663551\n",
      "Accuracy for C=10000: 0.8073890186915887\n"
     ]
    }
   ],
   "source": [
    "from sklearn.linear_model import LogisticRegression\n",
    "from sklearn.metrics import accuracy_score, confusion_matrix, classification_report, roc_curve, precision_recall_curve\n",
    "\n",
    "c_params = [0.01, 0.05, 0.25, 0.5, 1, 10, 100, 1000, 10000]\n",
    "\n",
    "train_acc = list()\n",
    "test_acc = list()\n",
    "for c in c_params:\n",
    "    lr = LogisticRegression(C=c, solver='lbfgs', max_iter=500)\n",
    "    lr.fit(X_train_, y_train)\n",
    "    \n",
    "    train_predict = lr.predict(X_train_)\n",
    "    test_predict = lr.predict(X_test_)\n",
    "    \n",
    "    print (\"Accuracy for C={}: {}\".format(c, accuracy_score(y_test, test_predict)))\n",
    "    \n",
    "    train_acc.append(accuracy_score(y_train, train_predict))\n",
    "    test_acc.append(accuracy_score(y_test, test_predict))"
   ]
  },
  {
   "cell_type": "code",
   "execution_count": 80,
   "metadata": {},
   "outputs": [
    {
     "name": "stdout",
     "output_type": "stream",
     "text": [
      "Confussion matrix:\n",
      "[[2751  649]\n",
      " [ 670 2778]]\n",
      "\n",
      "Classification report:\n",
      "              precision    recall  f1-score   support\n",
      "\n",
      "           0       0.80      0.81      0.81      3400\n",
      "           1       0.81      0.81      0.81      3448\n",
      "\n",
      "    accuracy                           0.81      6848\n",
      "   macro avg       0.81      0.81      0.81      6848\n",
      "weighted avg       0.81      0.81      0.81      6848\n",
      "\n",
      "Accuracy score:0.8073890186915887\n"
     ]
    }
   ],
   "source": [
    "print('Confussion matrix:\\n{}'.format(confusion_matrix(y_test, test_predict)))\n",
    "print('\\nClassification report:\\n{}'.format(classification_report(y_test, test_predict)))\n",
    "print('Accuracy score:{}'.format(accuracy_score(y_test, test_predict)))"
   ]
  },
  {
   "cell_type": "code",
   "execution_count": 81,
   "metadata": {},
   "outputs": [
    {
     "data": {
      "image/png": "[encoded data removed]",
      "text/plain": [
       "<Figure size 864x576 with 1 Axes>"
      ]
     },
     "metadata": {
      "needs_background": "light"
     },
     "output_type": "display_data"
    }
   ],
   "source": [
    "import numpy as np\n",
    "\n",
    "plt.figure(figsize=(12, 8))\n",
    "plt.plot(train_acc, label='train')\n",
    "plt.plot(test_acc, label='test')\n",
    "plt.axvline(np.argmax(test_acc), c='g', ls='--', alpha=0.8)\n",
    "plt.title('Accuracy evolution for different C values')\n",
    "plt.xlabel('C')\n",
    "plt.ylabel('Accuracy')\n",
    "plt.legend()\n",
    "plt.grid()\n",
    "plt.xticks(list(range(len(c_params))), c_params)\n",
    "plt.tight_layout()\n",
    "plt.show()"
   ]
  },
  {
   "cell_type": "code",
   "execution_count": 87,
   "metadata": {},
   "outputs": [],
   "source": [
    "def predict_review_sentiment_B(review_index, model):\n",
    "    print('Actual sentiment: {}'.format(data_reviews_B.iloc[review_index]['feeling']))\n",
    "    r = data_reviews_B.iloc[review_index]['normalized']\n",
    "    print('Prediction: {}'.format(lr.predict(cv.transform([r]))))"
   ]
  },
  {
   "cell_type": "code",
   "execution_count": 88,
   "metadata": {},
   "outputs": [
    {
     "name": "stdout",
     "output_type": "stream",
     "text": [
      "\n",
      "Review no. 3809\n",
      "Actual sentiment: 1\n",
      "Prediction: [1]\n",
      "\n",
      "Review no. 27165\n",
      "Actual sentiment: 0\n",
      "Prediction: [0]\n",
      "\n",
      "Review no. 6562\n",
      "Actual sentiment: 1\n",
      "Prediction: [0]\n",
      "\n",
      "Review no. 27352\n",
      "Actual sentiment: 0\n",
      "Prediction: [0]\n",
      "\n",
      "Review no. 23456\n",
      "Actual sentiment: 0\n",
      "Prediction: [0]\n"
     ]
    }
   ],
   "source": [
    "import random\n",
    "\n",
    "for i in random.sample(range(0, len(data_reviews_B)), 5):\n",
    "    print('\\nReview no. {}'.format(i))\n",
    "    predict_review_sentiment_B(i, lr)"
   ]
  },
  {
   "cell_type": "markdown",
   "metadata": {},
   "source": [
    "A modo de prueba, probamos el mismo entrenamiento sin balancear."
   ]
  },
  {
   "cell_type": "markdown",
   "metadata": {},
   "source": [
    "### Train y test (Desbalanceado)"
   ]
  },
  {
   "cell_type": "code",
   "execution_count": 89,
   "metadata": {},
   "outputs": [],
   "source": [
    "from sklearn.model_selection import train_test_split\n",
    "\n",
    "X_train, X_test, y_train, y_test = train_test_split(\n",
    "    data_reviews['normalized'],\n",
    "    data_reviews['feeling'],\n",
    "    train_size=0.75,\n",
    "    test_size=0.25,\n",
    "    random_state=42,\n",
    "    shuffle=True\n",
    ")"
   ]
  },
  {
   "cell_type": "code",
   "execution_count": 90,
   "metadata": {},
   "outputs": [
    {
     "data": {
      "text/plain": [
       "118372    flavor crispness eat vegetables sea salt veggi...\n",
       "35089     really wonderful product smell taste like fres...\n",
       "128192    nice smooth taste enjoyed coffee like way cup ...\n",
       "94677     time boil potato great around thirty-four inst...\n",
       "19684     love spaghetti find fail safe overcooked get m...\n",
       "20636     use chai pacific chai vanilla latte mix coffee...\n",
       "31944     hold non decaf course pretty decent certainly ...\n",
       "116326    first coffee tried got keurig disappointed fla...\n",
       "117994    tea nice sweet taste quite juice like sweetnes...\n",
       "25475     snacker since childhood like idea individual b...\n",
       "Name: normalized, dtype: object"
      ]
     },
     "execution_count": 90,
     "metadata": {},
     "output_type": "execute_result"
    }
   ],
   "source": [
    "X_train.iloc[:10]"
   ]
  },
  {
   "cell_type": "code",
   "execution_count": 91,
   "metadata": {},
   "outputs": [
    {
     "data": {
      "text/plain": [
       "118372    1\n",
       "35089     1\n",
       "128192    1\n",
       "94677     1\n",
       "19684     1\n",
       "20636     1\n",
       "31944     1\n",
       "116326    0\n",
       "117994    1\n",
       "25475     1\n",
       "Name: feeling, dtype: int64"
      ]
     },
     "execution_count": 91,
     "metadata": {},
     "output_type": "execute_result"
    }
   ],
   "source": [
    "y_train.iloc[:10]"
   ]
  },
  {
   "cell_type": "markdown",
   "metadata": {},
   "source": [
    "### Features"
   ]
  },
  {
   "cell_type": "code",
   "execution_count": 92,
   "metadata": {},
   "outputs": [
    {
     "data": {
      "text/plain": [
       "TfidfVectorizer(max_df=0.95, max_features=3000, min_df=5, strip_accents='ascii')"
      ]
     },
     "execution_count": 92,
     "metadata": {},
     "output_type": "execute_result"
    }
   ],
   "source": [
    "from sklearn.feature_extraction.text import CountVectorizer, TfidfVectorizer\n",
    "\n",
    "cv = TfidfVectorizer(\n",
    "    max_df=0.95,\n",
    "    min_df=5,\n",
    "    max_features=3000,\n",
    "    strip_accents='ascii',\n",
    "    ngram_range=(1, 1)  #bigramas y trigramas\n",
    ")\n",
    "cv.fit(X_train)"
   ]
  },
  {
   "cell_type": "code",
   "execution_count": 93,
   "metadata": {},
   "outputs": [
    {
     "name": "stdout",
     "output_type": "stream",
     "text": [
      "[('flavor', 1021), ('eat', 832), ('sea', 2295), ('salt', 2256), ('veggie', 2857), ('chips', 474), ('reminds', 2178), ('sun', 2596), ('leave', 1493), ('oily', 1817), ('feel', 977), ('mouth', 1714), ('thirty', 2708), ('five', 1013), ('vitamin', 2872), ('four', 1061), ('two', 2811), ('calcium', 368), ('iron', 1390), ('many', 1599)]\n"
     ]
    }
   ],
   "source": [
    "print(list(cv.vocabulary_.items())[:20])"
   ]
  },
  {
   "cell_type": "code",
   "execution_count": 94,
   "metadata": {},
   "outputs": [
    {
     "name": "stdout",
     "output_type": "stream",
     "text": [
      "3000\n"
     ]
    }
   ],
   "source": [
    "print(len(cv.vocabulary_))"
   ]
  },
  {
   "cell_type": "markdown",
   "metadata": {},
   "source": [
    "### Score TD-IDF"
   ]
  },
  {
   "cell_type": "code",
   "execution_count": 95,
   "metadata": {},
   "outputs": [],
   "source": [
    "X_train_ = cv.transform(X_train)\n",
    "X_test_ = cv.transform(X_test)"
   ]
  },
  {
   "cell_type": "markdown",
   "metadata": {},
   "source": [
    "### Chi-cuadrado score"
   ]
  },
  {
   "cell_type": "code",
   "execution_count": 96,
   "metadata": {},
   "outputs": [
    {
     "data": {
      "image/png": "[encoded data removed]",
      "text/plain": [
       "<Figure size 864x576 with 1 Axes>"
      ]
     },
     "metadata": {
      "needs_background": "light"
     },
     "output_type": "display_data"
    }
   ],
   "source": [
    "i = 15\n",
    "\n",
    "chi2score = chi2(X_train_, y_train)[0]\n",
    "scores = list(zip(cv.get_feature_names(), chi2score))\n",
    "sorted_scores = sorted(scores, key=lambda x:x[1])\n",
    "topchi2 = list(zip(*sorted_scores[-i:]))\n",
    "x = range(len(topchi2[1]))\n",
    "labels = topchi2[0]\n",
    "\n",
    "plt.figure(figsize=(12, 8))\n",
    "plt.barh(x,topchi2[1], align='center', alpha=0.5)\n",
    "plt.plot(topchi2[1], x, '-o', markersize=5, alpha=0.8)\n",
    "plt.yticks(x, labels, fontsize=12)\n",
    "plt.xlabel('$\\chi^2$', fontsize=26)\n",
    "plt.ylabel('word', fontsize=16)\n",
    "plt.title('Top {} $\\chi^2$ score for each word in the training set'.format(i), fontsize=20)\n",
    "plt.grid()\n",
    "plt.tight_layout()\n",
    "plt.show();"
   ]
  },
  {
   "cell_type": "markdown",
   "metadata": {},
   "source": [
    "### Entrenamiento para Regresión Logística (Desbalanceado)\n"
   ]
  },
  {
   "cell_type": "code",
   "execution_count": 97,
   "metadata": {},
   "outputs": [
    {
     "name": "stdout",
     "output_type": "stream",
     "text": [
      "Accuracy for C=0.01: 0.9107737874861163\n",
      "Accuracy for C=0.05: 0.9128100703443169\n",
      "Accuracy for C=0.25: 0.9246310890146506\n",
      "Accuracy for C=0.5: 0.927540064526366\n",
      "Accuracy for C=1: 0.9293647855291691\n",
      "Accuracy for C=10: 0.9300259163272862\n"
     ]
    },
    {
     "name": "stderr",
     "output_type": "stream",
     "text": [
      "/Users/jotaemeguzman/opt/anaconda3/lib/python3.7/site-packages/sklearn/linear_model/_logistic.py:765: ConvergenceWarning: lbfgs failed to converge (status=1):\n",
      "STOP: TOTAL NO. of ITERATIONS REACHED LIMIT.\n",
      "\n",
      "Increase the number of iterations (max_iter) or scale the data as shown in:\n",
      "    https://scikit-learn.org/stable/modules/preprocessing.html\n",
      "Please also refer to the documentation for alternative solver options:\n",
      "    https://scikit-learn.org/stable/modules/linear_model.html#logistic-regression\n",
      "  extra_warning_msg=_LOGISTIC_SOLVER_CONVERGENCE_MSG)\n"
     ]
    },
    {
     "name": "stdout",
     "output_type": "stream",
     "text": [
      "Accuracy for C=100: 0.9293383402972444\n"
     ]
    },
    {
     "name": "stderr",
     "output_type": "stream",
     "text": [
      "/Users/jotaemeguzman/opt/anaconda3/lib/python3.7/site-packages/sklearn/linear_model/_logistic.py:765: ConvergenceWarning: lbfgs failed to converge (status=1):\n",
      "STOP: TOTAL NO. of ITERATIONS REACHED LIMIT.\n",
      "\n",
      "Increase the number of iterations (max_iter) or scale the data as shown in:\n",
      "    https://scikit-learn.org/stable/modules/preprocessing.html\n",
      "Please also refer to the documentation for alternative solver options:\n",
      "    https://scikit-learn.org/stable/modules/linear_model.html#logistic-regression\n",
      "  extra_warning_msg=_LOGISTIC_SOLVER_CONVERGENCE_MSG)\n"
     ]
    },
    {
     "name": "stdout",
     "output_type": "stream",
     "text": [
      "Accuracy for C=1000: 0.9293118950653197\n",
      "Accuracy for C=10000: 0.929206114137621\n"
     ]
    },
    {
     "name": "stderr",
     "output_type": "stream",
     "text": [
      "/Users/jotaemeguzman/opt/anaconda3/lib/python3.7/site-packages/sklearn/linear_model/_logistic.py:765: ConvergenceWarning: lbfgs failed to converge (status=1):\n",
      "STOP: TOTAL NO. of ITERATIONS REACHED LIMIT.\n",
      "\n",
      "Increase the number of iterations (max_iter) or scale the data as shown in:\n",
      "    https://scikit-learn.org/stable/modules/preprocessing.html\n",
      "Please also refer to the documentation for alternative solver options:\n",
      "    https://scikit-learn.org/stable/modules/linear_model.html#logistic-regression\n",
      "  extra_warning_msg=_LOGISTIC_SOLVER_CONVERGENCE_MSG)\n"
     ]
    }
   ],
   "source": [
    "c_params = [0.01, 0.05, 0.25, 0.5, 1, 10, 100, 1000, 10000]\n",
    "\n",
    "train_acc = list()\n",
    "test_acc = list()\n",
    "for c in c_params:\n",
    "    lr = LogisticRegression(C=c, solver='lbfgs', max_iter=500)\n",
    "    lr.fit(X_train_, y_train)\n",
    "    \n",
    "    train_predict = lr.predict(X_train_)\n",
    "    test_predict = lr.predict(X_test_)\n",
    "    \n",
    "    print (\"Accuracy for C={}: {}\".format(c, accuracy_score(y_test, test_predict)))\n",
    "    \n",
    "    train_acc.append(accuracy_score(y_train, train_predict))\n",
    "    test_acc.append(accuracy_score(y_test, test_predict))"
   ]
  },
  {
   "cell_type": "code",
   "execution_count": 98,
   "metadata": {},
   "outputs": [
    {
     "name": "stdout",
     "output_type": "stream",
     "text": [
      "Confussion matrix:\n",
      "[[ 1450  1924]\n",
      " [  753 33687]]\n",
      "\n",
      "Classification report:\n",
      "              precision    recall  f1-score   support\n",
      "\n",
      "           0       0.66      0.43      0.52      3374\n",
      "           1       0.95      0.98      0.96     34440\n",
      "\n",
      "    accuracy                           0.93     37814\n",
      "   macro avg       0.80      0.70      0.74     37814\n",
      "weighted avg       0.92      0.93      0.92     37814\n",
      "\n",
      "Accuracy score:0.929206114137621\n"
     ]
    }
   ],
   "source": [
    "print('Confussion matrix:\\n{}'.format(confusion_matrix(y_test, test_predict)))\n",
    "print('\\nClassification report:\\n{}'.format(classification_report(y_test, test_predict)))\n",
    "print('Accuracy score:{}'.format(accuracy_score(y_test, test_predict)))"
   ]
  },
  {
   "cell_type": "code",
   "execution_count": 99,
   "metadata": {},
   "outputs": [
    {
     "data": {
      "image/png": "[encoded data removed]",
      "text/plain": [
       "<Figure size 864x576 with 1 Axes>"
      ]
     },
     "metadata": {
      "needs_background": "light"
     },
     "output_type": "display_data"
    }
   ],
   "source": [
    "plt.figure(figsize=(12, 8))\n",
    "plt.plot(train_acc, label='train')\n",
    "plt.plot(test_acc, label='test')\n",
    "plt.axvline(np.argmax(test_acc), c='g', ls='--', alpha=0.8)\n",
    "plt.title('Accuracy evolution for different C values')\n",
    "plt.xlabel('C')\n",
    "plt.ylabel('Accuracy')\n",
    "plt.legend()\n",
    "plt.grid()\n",
    "plt.xticks(list(range(len(c_params))), c_params)\n",
    "plt.tight_layout()\n",
    "plt.show()"
   ]
  },
  {
   "cell_type": "code",
   "execution_count": 100,
   "metadata": {},
   "outputs": [],
   "source": [
    "def predict_review_sentiment(review_index, model):\n",
    "    print('Actual sentiment: {}'.format(data_reviews.iloc[review_index]['feeling']))\n",
    "    r = data_reviews.iloc[review_index]['normalized']\n",
    "    print('Prediction: {}'.format(lr.predict(cv.transform([r]))))"
   ]
  },
  {
   "cell_type": "code",
   "execution_count": 101,
   "metadata": {},
   "outputs": [
    {
     "name": "stdout",
     "output_type": "stream",
     "text": [
      "\n",
      "Review no. 116448\n",
      "Actual sentiment: 1\n",
      "Prediction: [0]\n",
      "\n",
      "Review no. 24787\n",
      "Actual sentiment: 1\n",
      "Prediction: [1]\n",
      "\n",
      "Review no. 7502\n",
      "Actual sentiment: 0\n",
      "Prediction: [1]\n",
      "\n",
      "Review no. 14903\n",
      "Actual sentiment: 1\n",
      "Prediction: [1]\n",
      "\n",
      "Review no. 48394\n",
      "Actual sentiment: 1\n",
      "Prediction: [1]\n"
     ]
    }
   ],
   "source": [
    "for i in random.sample(range(0, len(data_reviews)), 5):\n",
    "    print('\\nReview no. {}'.format(i))\n",
    "    predict_review_sentiment(i, lr)"
   ]
  },
  {
   "cell_type": "markdown",
   "metadata": {},
   "source": [
    "### VADER (Balanceado)"
   ]
  },
  {
   "cell_type": "code",
   "execution_count": 84,
   "metadata": {},
   "outputs": [
    {
     "name": "stdout",
     "output_type": "stream",
     "text": [
      "Requirement already satisfied: vaderSentiment in /Users/jotaemeguzman/opt/anaconda3/lib/python3.7/site-packages (3.3.2)\n",
      "Requirement already satisfied: requests in /Users/jotaemeguzman/opt/anaconda3/lib/python3.7/site-packages (from vaderSentiment) (2.22.0)\n",
      "Requirement already satisfied: chardet<3.1.0,>=3.0.2 in /Users/jotaemeguzman/opt/anaconda3/lib/python3.7/site-packages (from requests->vaderSentiment) (3.0.4)\n",
      "Requirement already satisfied: certifi>=2017.4.17 in /Users/jotaemeguzman/opt/anaconda3/lib/python3.7/site-packages (from requests->vaderSentiment) (2019.11.28)\n",
      "Requirement already satisfied: idna<2.9,>=2.5 in /Users/jotaemeguzman/opt/anaconda3/lib/python3.7/site-packages (from requests->vaderSentiment) (2.8)\n",
      "Requirement already satisfied: urllib3!=1.25.0,!=1.25.1,<1.26,>=1.21.1 in /Users/jotaemeguzman/opt/anaconda3/lib/python3.7/site-packages (from requests->vaderSentiment) (1.25.8)\n",
      "\u001b[33mWARNING: You are using pip version 21.0.1; however, version 21.1.2 is available.\n",
      "You should consider upgrading via the '/Users/jotaemeguzman/opt/anaconda3/bin/python3 -m pip install --upgrade pip' command.\u001b[0m\n"
     ]
    }
   ],
   "source": [
    "!pip install vaderSentiment"
   ]
  },
  {
   "cell_type": "code",
   "execution_count": 102,
   "metadata": {},
   "outputs": [
    {
     "name": "stdout",
     "output_type": "stream",
     "text": [
      "order give proper review werther original caramels thought try recipe caramel apple package really much recipe whole package caramel plus two milk zap microwave caramel delicious creamy melted quickly candy apple turned great package say caramel made fresh butter real cream tell delicious highly recommended cheap\n",
      "{'neg': 0.0, 'neu': 0.687, 'pos': 0.313, 'compound': 0.9531}\n"
     ]
    }
   ],
   "source": [
    "from vaderSentiment.vaderSentiment import SentimentIntensityAnalyzer\n",
    "\n",
    "df_vader = SentimentIntensityAnalyzer()\n",
    "\n",
    "review_test = data_reviews_B[data_reviews_B['feeling']==1].sample(1)['normalized'].values[0]\n",
    "print(review_test)\n",
    "print(df_vader.polarity_scores(review_test))"
   ]
  },
  {
   "cell_type": "markdown",
   "metadata": {},
   "source": [
    "### VADER (Desbalanceado)"
   ]
  },
  {
   "cell_type": "code",
   "execution_count": 103,
   "metadata": {},
   "outputs": [
    {
     "name": "stdout",
     "output_type": "stream",
     "text": [
      "brown gold one hundred ethiopian make delicious cup coffee like mine strong bitter disappoint one hundred ethiopian bold creamy without burnt taste strong coffee guaranteed wake faint heart casual coffee sipper mean business love\n",
      "{'neg': 0.15, 'neu': 0.44, 'pos': 0.409, 'compound': 0.9337}\n"
     ]
    }
   ],
   "source": [
    "df_vader = SentimentIntensityAnalyzer()\n",
    "\n",
    "review_test = data_reviews[data_reviews['feeling']==1].sample(1)['normalized'].values[0]\n",
    "print(review_test)\n",
    "print(df_vader.polarity_scores(review_test))"
   ]
  },
  {
   "cell_type": "code",
   "execution_count": null,
   "metadata": {},
   "outputs": [],
   "source": []
  }
 ],
 "metadata": {
  "kernelspec": {
   "display_name": "Python 3",
   "language": "python",
   "name": "python3"
  },
  "language_info": {
   "codemirror_mode": {
    "name": "ipython",
    "version": 3
   },
   "file_extension": ".py",
   "mimetype": "text/x-python",
   "name": "python",
   "nbconvert_exporter": "python",
   "pygments_lexer": "ipython3",
   "version": "3.7.6"
  }
 },
 "nbformat": 4,
 "nbformat_minor": 4
}
